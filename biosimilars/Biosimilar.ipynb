{
 "cells": [
  {
   "cell_type": "code",
   "execution_count": 1,
   "metadata": {
    "collapsed": true
   },
   "outputs": [],
   "source": [
    "#import libraries required for analysis\n",
    "import pandas as pd\n",
    "import numpy as np\n",
    "import matplotlib\n",
    "import matplotlib.pyplot as plt\n",
    "import seaborn as sns\n",
    "from matplotlib.dates import  DateFormatter\n",
    "import datetime\n",
    "import matplotlib.gridspec as gridspec\n",
    "%matplotlib inline\n",
    "from matplotlib import rcParams\n",
    "rcParams['font.family'] = 'serif'"
   ]
  },
  {
   "cell_type": "code",
   "execution_count": 2,
   "metadata": {
    "collapsed": false
   },
   "outputs": [
    {
     "name": "stdout",
     "output_type": "stream",
     "text": [
      "Requesting query... ok.\n",
      "Job ID: job_C93a6GcAfq86JHkYfU4UvH6tZIVx\n",
      "Query running...\n",
      "Query done.\n",
      "Cache hit.\n",
      "\n",
      "Retrieving results...\n",
      "Got 8077 rows.\n",
      "\n",
      "Total time taken 2.37 s.\n",
      "Finished at 2018-07-16 17:03:45.\n"
     ]
    }
   ],
   "source": [
    "projectid = \"ebmdatalab\"\n",
    "ccg_df = pd.read_gbq(\"\"\"\n",
    "SELECT\n",
    "  glargine.month as period,\n",
    "  glargine.pct,\n",
    "  SUM(CASE\n",
    "      WHEN SUBSTR(glargine.bnf_code,1,11)='0601012V0AA' THEN items\n",
    "      ELSE 0 END) AS generic_items,\n",
    "  SUM(CASE\n",
    "      WHEN SUBSTR(glargine.bnf_code,1,11)='0601012V0BB' THEN items\n",
    "      ELSE 0 END) AS lantus_items, \n",
    "SUM(CASE\n",
    "      WHEN SUBSTR(glargine.bnf_code,1,11)='0601012V0BD' THEN items\n",
    "      ELSE 0 END) AS abasaglar_items,\n",
    "  SUM(items) AS all_items,\n",
    "  IEEE_DIVIDE(SUM(\n",
    "      CASE\n",
    "      WHEN SUBSTR(glargine.bnf_code,1,11) = '0601012V0BD' THEN items\n",
    "        ELSE 0 END), SUM(items)) AS biosimilar_percent\n",
    " \n",
    "FROM\n",
    "ebmdatalab.richard.glargine AS glargine\n",
    "INNER JOIN\n",
    "  ebmdatalab.hscic.ccgs AS ccg\n",
    "ON\n",
    "  glargine.pct=ccg.code\n",
    "WHERE\n",
    " ccg.org_type = 'CCG'\n",
    "and glargine.month  >='2015-01-01 00:00:00'\n",
    "GROUP BY\n",
    "  period,\n",
    "  pct\n",
    "ORDER BY\n",
    "  period,\n",
    "  pct\n",
    "\"\"\", projectid, dialect='standard')\n"
   ]
  },
  {
   "cell_type": "code",
   "execution_count": 3,
   "metadata": {
    "collapsed": false
   },
   "outputs": [
    {
     "data": {
      "text/html": [
       "<div>\n",
       "<style>\n",
       "    .dataframe thead tr:only-child th {\n",
       "        text-align: right;\n",
       "    }\n",
       "\n",
       "    .dataframe thead th {\n",
       "        text-align: left;\n",
       "    }\n",
       "\n",
       "    .dataframe tbody tr th {\n",
       "        vertical-align: top;\n",
       "    }\n",
       "</style>\n",
       "<table border=\"1\" class=\"dataframe\">\n",
       "  <thead>\n",
       "    <tr style=\"text-align: right;\">\n",
       "      <th></th>\n",
       "      <th>period</th>\n",
       "      <th>pct</th>\n",
       "      <th>generic_items</th>\n",
       "      <th>lantus_items</th>\n",
       "      <th>abasaglar_items</th>\n",
       "      <th>all_items</th>\n",
       "      <th>biosimilar_percent</th>\n",
       "    </tr>\n",
       "  </thead>\n",
       "  <tbody>\n",
       "    <tr>\n",
       "      <th>0</th>\n",
       "      <td>2015-01-01</td>\n",
       "      <td>00C</td>\n",
       "      <td>17</td>\n",
       "      <td>194</td>\n",
       "      <td>0</td>\n",
       "      <td>211</td>\n",
       "      <td>0.0</td>\n",
       "    </tr>\n",
       "    <tr>\n",
       "      <th>1</th>\n",
       "      <td>2015-01-01</td>\n",
       "      <td>00D</td>\n",
       "      <td>139</td>\n",
       "      <td>770</td>\n",
       "      <td>0</td>\n",
       "      <td>909</td>\n",
       "      <td>0.0</td>\n",
       "    </tr>\n",
       "    <tr>\n",
       "      <th>2</th>\n",
       "      <td>2015-01-01</td>\n",
       "      <td>00J</td>\n",
       "      <td>110</td>\n",
       "      <td>452</td>\n",
       "      <td>0</td>\n",
       "      <td>562</td>\n",
       "      <td>0.0</td>\n",
       "    </tr>\n",
       "    <tr>\n",
       "      <th>3</th>\n",
       "      <td>2015-01-01</td>\n",
       "      <td>00K</td>\n",
       "      <td>47</td>\n",
       "      <td>538</td>\n",
       "      <td>0</td>\n",
       "      <td>585</td>\n",
       "      <td>0.0</td>\n",
       "    </tr>\n",
       "    <tr>\n",
       "      <th>4</th>\n",
       "      <td>2015-01-01</td>\n",
       "      <td>00L</td>\n",
       "      <td>84</td>\n",
       "      <td>181</td>\n",
       "      <td>0</td>\n",
       "      <td>265</td>\n",
       "      <td>0.0</td>\n",
       "    </tr>\n",
       "  </tbody>\n",
       "</table>\n",
       "</div>"
      ],
      "text/plain": [
       "      period  pct  generic_items  lantus_items  abasaglar_items  all_items  \\\n",
       "0 2015-01-01  00C             17           194                0        211   \n",
       "1 2015-01-01  00D            139           770                0        909   \n",
       "2 2015-01-01  00J            110           452                0        562   \n",
       "3 2015-01-01  00K             47           538                0        585   \n",
       "4 2015-01-01  00L             84           181                0        265   \n",
       "\n",
       "   biosimilar_percent  \n",
       "0                 0.0  \n",
       "1                 0.0  \n",
       "2                 0.0  \n",
       "3                 0.0  \n",
       "4                 0.0  "
      ]
     },
     "execution_count": 3,
     "metadata": {},
     "output_type": "execute_result"
    }
   ],
   "source": [
    "ccg_df.head()"
   ]
  },
  {
   "cell_type": "code",
   "execution_count": 4,
   "metadata": {
    "collapsed": false
   },
   "outputs": [
    {
     "name": "stdout",
     "output_type": "stream",
     "text": [
      "Requesting query... ok.\n",
      "Job ID: job_JVzWPTpOj6iiIpOj4zXXkZwz0REz\n",
      "Query running...\n",
      "Query done.\n",
      "Cache hit.\n",
      "\n",
      "Retrieving results...\n",
      "  Got page: 2; 35% done. Elapsed 7.85 s.\n",
      "  Got page: 3; 52% done. Elapsed 11.4 s.\n",
      "  Got page: 4; 69% done. Elapsed 15.16 s.\n",
      "  Got page: 5; 87% done. Elapsed 18.13 s.\n",
      "  Got page: 6; 100% done. Elapsed 21.15 s.\n",
      "Got 288138 rows.\n",
      "\n",
      "Total time taken 44.57 s.\n",
      "Finished at 2018-07-16 17:04:30.\n"
     ]
    }
   ],
   "source": [
    "\n",
    "#obtain overall data for prescribing for trimethoprim at practice level where practices with list size of => 1000\n",
    "practice_df = pd.read_gbq(\"\"\"\n",
    "SELECT\n",
    "  glargine.month as period,\n",
    "  glargine.practice,\n",
    "  SUM(CASE\n",
    "      WHEN SUBSTR(glargine.bnf_code,1,11)='0601012V0AA' THEN items\n",
    "      ELSE 0 END) AS generic_items,\n",
    "  SUM(CASE\n",
    "      WHEN SUBSTR(glargine.bnf_code,1,11)='0601012V0BB' THEN items\n",
    "      ELSE 0 END) AS lantus_items, \n",
    "SUM(CASE\n",
    "      WHEN SUBSTR(glargine.bnf_code,1,11)='0601012V0BD' THEN items\n",
    "      ELSE 0 END) AS abasaglar_items,\n",
    "  SUM(items) AS all_items,\n",
    "  IEEE_DIVIDE(SUM(\n",
    "      CASE\n",
    "      WHEN SUBSTR(glargine.bnf_code,1,11) = '0601012V0BD' THEN items\n",
    "        ELSE 0 END), SUM(items)) AS biosimilar_percent\n",
    "FROM\n",
    "  ebmdatalab.richard.glargine AS glargine\n",
    "INNER JOIN\n",
    "  ebmdatalab.hscic.practice_statistics_all_years AS listsize\n",
    "ON\n",
    "   glargine.practice=listsize.practice\n",
    "AND   \n",
    "  glargine.month=listsize.month\n",
    "WHERE\n",
    "  listsize.total_list_size >=1000\n",
    "  and glargine.month >='2015-01-01 00:00:00'\n",
    "GROUP BY\n",
    "  period,\n",
    "  glargine.practice\n",
    "ORDER BY\n",
    "  period,\n",
    "  glargine.practice\n",
    "\"\"\", projectid, dialect='standard')"
   ]
  },
  {
   "cell_type": "code",
   "execution_count": 18,
   "metadata": {
    "collapsed": false
   },
   "outputs": [],
   "source": [
    "#create deciles for practices\n",
    "x = (.5,.9,.99)\n",
    "practice_deciles = practice_df.groupby('period')['biosimilar_percent'].quantile(x)\n",
    "practice_deciles_df=pd.DataFrame(practice_deciles)\n",
    "practice_deciles_df=practice_deciles_df.reset_index()\n",
    "# create integer range of percentiles as integers are better for  charts\n",
    "practice_deciles_df[\"index\"] = (practice_deciles_df.level_1*100).map(int)\n",
    "practice_deciles_df['period'] = practice_deciles_df['period'].astype(str)\n",
    "# set format for dates:\n",
    "practice_deciles_df['period'] = [datetime.datetime.strptime(date, '%Y-%m-%d').date() for date in practice_deciles_df['period']]\n",
    "\n",
    "#create deciles for CCGs\n",
    "x = (.5,.9,.99)\n",
    "ccg_deciles = ccg_df.groupby('period')['biosimilar_percent'].quantile(x)\n",
    "ccg_deciles_df=pd.DataFrame(ccg_deciles)\n",
    "ccg_deciles_df=ccg_deciles_df.reset_index()\n",
    "# create integer range of percentiles as integers are better for  charts\n",
    "ccg_deciles_df[\"index\"] = (ccg_deciles_df.level_1*100).map(int)\n",
    "ccg_deciles_df['period'] = ccg_deciles_df['period'].astype(str)\n",
    "# set format for dates:\n",
    "ccg_deciles_df['period'] = [datetime.datetime.strptime(date, '%Y-%m-%d').date() for date in ccg_deciles_df['period']]"
   ]
  },
  {
   "cell_type": "code",
   "execution_count": 21,
   "metadata": {
    "collapsed": false
   },
   "outputs": [
    {
     "data": {
      "image/png": "[encoded data removed]",
      "text/plain": [
       "<matplotlib.figure.Figure at 0x1bc50d6a940>"
      ]
     },
     "metadata": {},
     "output_type": "display_data"
    }
   ],
   "source": [
    "# Plot time series charts of deciles\n",
    "sns.set_style(\"whitegrid\",{'grid.color': '.9'})\n",
    "fig = plt.figure(figsize=(16,6.666)) \n",
    "gs = gridspec.GridSpec(1,2)  # grid layout for subplots\n",
    "\n",
    "# set sort order of drugs manually, and add grid refs to position each subplot:\n",
    "s = [(0,ccg_deciles_df,0,0,'CCGs'), (1,practice_deciles_df,0,1,'practices')]\n",
    "\n",
    "# Plot each subplot using a loop\n",
    "for i in s:\n",
    "    ax = plt.subplot(gs[i[2], i[3]])  # position of subplot in grid using coordinates listed in s (, sharey=ax)\n",
    "    for decile in range(1,100):   # plot each decile line\n",
    "        data = i[1].loc[(i[1]['index']==decile)]\n",
    "        if decile == 50:\n",
    "            ax.plot(data[\"period\"],100*data['biosimilar_percent'],'b-',linewidth=2, label='England median')\n",
    "        if decile == 90:\n",
    "            ax.plot(data[\"period\"],100*data['biosimilar_percent'],'b--',linewidth=1.5,label='England 90th percentile') \n",
    "        if (decile == 99) :\n",
    "            ax.plot(data[\"period\"],100*data['biosimilar_percent'],'b:',linewidth=1.5, label='England 99th percentile')\n",
    "\n",
    "    if  i[3]%2==0:    # set y axis title only for charts in leftmost column\n",
    "        ax.set_ylabel('Percentage of insulin glargine 100iu/ml as abasaglar', size =15, alpha=0.6)\n",
    "        \n",
    "       \n",
    "    ax.set_title(i[4],size = 18)\n",
    "    ax.set_ylim([0, 100*i[1]['biosimilar_percent'].max()*1.05])  # set ymax across all subplots as largest value across dataset\n",
    "    ax.tick_params(labelsize=12)\n",
    "    ax.set_xlim([i[1]['period'].min(), i[1]['period'].max()]) # set x axis range as full date range\n",
    "\n",
    "    plt.setp(ax.xaxis.get_majorticklabels(), rotation=90)\n",
    "    ax.xaxis.set_major_formatter(matplotlib.dates.DateFormatter('%B %Y'))\n",
    "    ax.legend(bbox_to_anchor=(0., -.4, 1., .102), loc=8,\n",
    "       ncol=2, mode=\"expand\", fontsize=12, borderaxespad=0.)\n",
    "\n",
    "    \n",
    "plt.subplots_adjust(wspace = 0.07,hspace = 0.15)\n",
    "plt.savefig('abasaglar.png', format='png', dpi=300,bbox_inches='tight')\n",
    "plt.show()"
   ]
  },
  {
   "cell_type": "markdown",
   "metadata": {},
   "source": [
    "# "
   ]
  },
  {
   "cell_type": "code",
   "execution_count": null,
   "metadata": {
    "collapsed": true
   },
   "outputs": [],
   "source": []
  }
 ],
 "metadata": {
  "kernelspec": {
   "display_name": "Python 3",
   "language": "python",
   "name": "python3"
  },
  "language_info": {
   "codemirror_mode": {
    "name": "ipython",
    "version": 3
   },
   "file_extension": ".py",
   "mimetype": "text/x-python",
   "name": "python",
   "nbconvert_exporter": "python",
   "pygments_lexer": "ipython3",
   "version": "3.6.0"
  }
 },
 "nbformat": 4,
 "nbformat_minor": 2
}
