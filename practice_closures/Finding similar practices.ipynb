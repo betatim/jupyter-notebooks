{
 "cells": [
  {
   "cell_type": "markdown",
   "metadata": {},
   "source": [
    "# Find practices with similar demographic shapes"
   ]
  },
  {
   "cell_type": "code",
   "execution_count": 102,
   "metadata": {},
   "outputs": [],
   "source": [
    "import matplotlib.pyplot as plt     \n",
    "import seaborn as sns   \n",
    "import scipy\n",
    "\n",
    "MIN_LIST_SIZE = 3000  # Don't consider any practice smaller than this for similarity\n",
    "target = \"E85124\"     # GP At Hand\n",
    "\n",
    "\n",
    "%matplotlib inline\n",
    "sns.set_style(\"white\")\n",
    "\n",
    "bands = ['0_4', '5_14', '15_24',\n",
    "       '25_34', '35_44', '45_54', '55_64', '65_74',\n",
    "       '75_plus']"
   ]
  },
  {
   "cell_type": "code",
   "execution_count": 3,
   "metadata": {},
   "outputs": [],
   "source": [
    "def pyramid(full_df, code, month=None):\n",
    "    df = full_df[full_df['practice_id'] == code]\n",
    "    # put male on left\n",
    "    for band in bands:\n",
    "        df[\"xmale_\" + band] = 0 - df[\"male_\" + band]\n",
    "    # plot every year in turn - write to file so we can animate\n",
    "    if month:\n",
    "        months = [month]\n",
    "    else:\n",
    "        months = sorted(df.month)\n",
    "    for i, month in enumerate(months):\n",
    "        plt.figure(i)\n",
    "        df1 = df[df['date'] == month]\n",
    "        df2 = pd.DataFrame(columns=['male', 'female'])\n",
    "        #df2.columns = []\n",
    "        for band in bands:\n",
    "            df2.loc[band] = [df1[\"xmale_\" + band].iloc[0], df1[\"female_\" + band].iloc[0]]\n",
    "        df2 = df2.reset_index()\n",
    "        malemax = df2['male'].min() * -1.1\n",
    "        plt.xlim(-malemax, malemax)\n",
    "        sns.set_color_codes(\"pastel\")\n",
    "        bar_plot = sns.barplot(x=\"male\", y=\"index\", color=\"blue\", label=\"male\",data = df2)\n",
    "        bar_plot = sns.barplot(x=\"female\", y=\"index\", color=\"red\", label=\"female\",data = df2)\n",
    "        plt.show()\n",
    "        # uncomment to save files for animation\n",
    "        #plt.savefig('/tmp/myfig_%s.png' % month.strftime(\"%Y-%m-%d\"))"
   ]
  },
  {
   "cell_type": "code",
   "execution_count": 4,
   "metadata": {},
   "outputs": [],
   "source": [
    "import pandas as pd\n",
    "\n",
    "df = pd.read_csv(\"stats.csv\", usecols=['date', 'male_0_4', 'female_0_4', 'male_5_14', 'female_5_14',\n",
    "       'male_15_24', 'female_15_24', 'male_25_34', 'female_25_34',\n",
    "       'male_35_44', 'female_35_44', 'male_45_54', 'female_45_54',\n",
    "       'male_55_64', 'female_55_64', 'male_65_74', 'female_65_74',\n",
    "       'male_75_plus', 'female_75_plus', 'total_list_size', 'pct_id', 'practice_id'])"
   ]
  },
  {
   "cell_type": "code",
   "execution_count": null,
   "metadata": {},
   "outputs": [],
   "source": [
    "# slice the current date\n",
    "df2 = df[df['date'] == '2018-09-01']\n",
    "# invert values for males so we can plot on one chart\n",
    "for band in bands:\n",
    "    df2[\"xmale_\" + band] = 0 - df2[\"male_\" + band]"
   ]
  },
  {
   "cell_type": "markdown",
   "metadata": {},
   "source": [
    "# Exclude practices with very little prescribing"
   ]
  },
  {
   "cell_type": "code",
   "execution_count": 14,
   "metadata": {},
   "outputs": [
    {
     "name": "stderr",
     "output_type": "stream",
     "text": [
      "/home/seb/.local/share/virtualenvs/jupyter/local/lib/python3.6/site-packages/pandas/io/gbq.py:108: FutureWarning: verbose is deprecated and will be removed in a future version. Set logging level in order to vary verbosity\n",
      "  **kwargs)\n"
     ]
    }
   ],
   "source": [
    "# One method for excluding non-standard practices\n",
    "sql = \"\"\"SELECT\n",
    "  p.month,\n",
    "  p.practice,\n",
    "  items / total_list_size AS items_per_patient\n",
    "FROM (\n",
    "  SELECT\n",
    "    practice,\n",
    "    month,\n",
    "    SUM(items) AS items\n",
    "  FROM\n",
    "    `ebmdatalab.hscic.normalised_prescribing_standard_latest_month`  \n",
    "  GROUP BY\n",
    "    practice,\n",
    "    month ) p\n",
    "INNER JOIN\n",
    "  `ebmdatalab.hscic.practice_statistics` AS stats\n",
    "ON\n",
    "  p.practice = stats.practice\n",
    "  AND stats.month = p.month\"\"\"\n",
    "stats = pd.read_gbq(sql, project_id='ebmdatalab', verbose=False, dialect='standard')"
   ]
  },
  {
   "cell_type": "code",
   "execution_count": 96,
   "metadata": {},
   "outputs": [],
   "source": [
    "typical = stats[(stats['items_per_patient'] > stats['items_per_patient'].quantile(0.005))]"
   ]
  },
  {
   "cell_type": "code",
   "execution_count": 103,
   "metadata": {},
   "outputs": [
    {
     "data": {
      "text/html": [
       "<div>\n",
       "<style scoped>\n",
       "    .dataframe tbody tr th:only-of-type {\n",
       "        vertical-align: middle;\n",
       "    }\n",
       "\n",
       "    .dataframe tbody tr th {\n",
       "        vertical-align: top;\n",
       "    }\n",
       "\n",
       "    .dataframe thead th {\n",
       "        text-align: right;\n",
       "    }\n",
       "</style>\n",
       "<table border=\"1\" class=\"dataframe\">\n",
       "  <thead>\n",
       "    <tr style=\"text-align: right;\">\n",
       "      <th></th>\n",
       "      <th>month</th>\n",
       "      <th>practice</th>\n",
       "      <th>items_per_patient</th>\n",
       "    </tr>\n",
       "  </thead>\n",
       "  <tbody>\n",
       "    <tr>\n",
       "      <th>4248</th>\n",
       "      <td>2018-09-01</td>\n",
       "      <td>E85124</td>\n",
       "      <td>0.263379</td>\n",
       "    </tr>\n",
       "  </tbody>\n",
       "</table>\n",
       "</div>"
      ],
      "text/plain": [
       "          month practice  items_per_patient\n",
       "4248 2018-09-01   E85124           0.263379"
      ]
     },
     "execution_count": 103,
     "metadata": {},
     "output_type": "execute_result"
    }
   ],
   "source": [
    "typical[typical['practice'] == target]"
   ]
  },
  {
   "cell_type": "code",
   "execution_count": 98,
   "metadata": {},
   "outputs": [],
   "source": [
    "df2 = df2.merge(typical, how='right', left_on='practice_id', right_on='practice')"
   ]
  },
  {
   "cell_type": "code",
   "execution_count": 99,
   "metadata": {},
   "outputs": [],
   "source": [
    "cols_to_compare = ['male_' + x for x in bands]\n",
    "cols_to_compare += ['female_' + x for x in bands]\n",
    "\n",
    "def normalise(row):\n",
    "    \"normalise to proportion max value so numbers are comparable\"\n",
    "    mx = max(row)\n",
    "    return [x/mx for x in row]\n",
    "\n",
    "\n",
    "def ks2(row, target_data=None):  \n",
    "    return scipy.stats.ks_2samp(target_data, normalise(row[cols_to_compare]))"
   ]
  },
  {
   "cell_type": "code",
   "execution_count": 104,
   "metadata": {},
   "outputs": [],
   "source": [
    "target_data = normalise(df2[df2['practice'] == target][cols_to_compare].iloc[0])\n",
    "ks = df2.apply(ks2, axis=1, target_data=target_data).apply(pd.Series)\n",
    "ks.columns = ['ks2', 'ks2_p']\n",
    "df3 = df2.join(ks).sort_values('ks2')"
   ]
  },
  {
   "cell_type": "code",
   "execution_count": 105,
   "metadata": {},
   "outputs": [],
   "source": [
    "# Filter for similarity\n",
    "df4 = df3[(df3['ks2_p'] > 0.1) & (df3['total_list_size'] > MIN_LIST_SIZE)]"
   ]
  },
  {
   "cell_type": "code",
   "execution_count": 106,
   "metadata": {},
   "outputs": [
    {
     "data": {
      "text/html": [
       "<div>\n",
       "<style scoped>\n",
       "    .dataframe tbody tr th:only-of-type {\n",
       "        vertical-align: middle;\n",
       "    }\n",
       "\n",
       "    .dataframe tbody tr th {\n",
       "        vertical-align: top;\n",
       "    }\n",
       "\n",
       "    .dataframe thead th {\n",
       "        text-align: right;\n",
       "    }\n",
       "</style>\n",
       "<table border=\"1\" class=\"dataframe\">\n",
       "  <thead>\n",
       "    <tr style=\"text-align: right;\">\n",
       "      <th></th>\n",
       "      <th>total_list_size</th>\n",
       "      <th>practice_id</th>\n",
       "      <th>ks2</th>\n",
       "      <th>ks2_p</th>\n",
       "    </tr>\n",
       "  </thead>\n",
       "  <tbody>\n",
       "    <tr>\n",
       "      <th>2180</th>\n",
       "      <td>32569</td>\n",
       "      <td>E85124</td>\n",
       "      <td>0.000000</td>\n",
       "      <td>1.000000</td>\n",
       "    </tr>\n",
       "    <tr>\n",
       "      <th>6858</th>\n",
       "      <td>9260</td>\n",
       "      <td>Y02622</td>\n",
       "      <td>0.277778</td>\n",
       "      <td>0.425472</td>\n",
       "    </tr>\n",
       "    <tr>\n",
       "      <th>5451</th>\n",
       "      <td>10443</td>\n",
       "      <td>M85778</td>\n",
       "      <td>0.277778</td>\n",
       "      <td>0.425472</td>\n",
       "    </tr>\n",
       "    <tr>\n",
       "      <th>6923</th>\n",
       "      <td>8334</td>\n",
       "      <td>Y02946</td>\n",
       "      <td>0.277778</td>\n",
       "      <td>0.425472</td>\n",
       "    </tr>\n",
       "    <tr>\n",
       "      <th>1300</th>\n",
       "      <td>17173</td>\n",
       "      <td>C84117</td>\n",
       "      <td>0.277778</td>\n",
       "      <td>0.425472</td>\n",
       "    </tr>\n",
       "  </tbody>\n",
       "</table>\n",
       "</div>"
      ],
      "text/plain": [
       "      total_list_size practice_id       ks2     ks2_p\n",
       "2180            32569      E85124  0.000000  1.000000\n",
       "6858             9260      Y02622  0.277778  0.425472\n",
       "5451            10443      M85778  0.277778  0.425472\n",
       "6923             8334      Y02946  0.277778  0.425472\n",
       "1300            17173      C84117  0.277778  0.425472"
      ]
     },
     "execution_count": 106,
     "metadata": {},
     "output_type": "execute_result"
    }
   ],
   "source": [
    "df4[['total_list_size', 'practice_id', 'ks2', 'ks2_p']].head()"
   ]
  },
  {
   "cell_type": "code",
   "execution_count": 107,
   "metadata": {},
   "outputs": [],
   "source": [
    "practices = df2.join(df4[['ks2', 'ks2_p']], how='inner').sort_values('ks2')['practice_id']"
   ]
  },
  {
   "cell_type": "code",
   "execution_count": 108,
   "metadata": {
    "scrolled": false
   },
   "outputs": [
    {
     "name": "stdout",
     "output_type": "stream",
     "text": [
      "E85124\n"
     ]
    },
    {
     "name": "stderr",
     "output_type": "stream",
     "text": [
      "/home/seb/.local/share/virtualenvs/jupyter/local/lib/python3.6/site-packages/ipykernel_launcher.py:5: SettingWithCopyWarning: \n",
      "A value is trying to be set on a copy of a slice from a DataFrame.\n",
      "Try using .loc[row_indexer,col_indexer] = value instead\n",
      "\n",
      "See the caveats in the documentation: http://pandas.pydata.org/pandas-docs/stable/indexing.html#indexing-view-versus-copy\n",
      "  \"\"\"\n"
     ]
    },
    {
     "data": {
      "image/png": "[encoded data removed]",
      "text/plain": [
       "<Figure size 432x288 with 1 Axes>"
      ]
     },
     "metadata": {},
     "output_type": "display_data"
    },
    {
     "name": "stdout",
     "output_type": "stream",
     "text": [
      "C82020\n"
     ]
    },
    {
     "data": {
      "image/png": "[encoded data removed]",
      "text/plain": [
       "<Figure size 432x288 with 1 Axes>"
      ]
     },
     "metadata": {},
     "output_type": "display_data"
    },
    {
     "name": "stdout",
     "output_type": "stream",
     "text": [
      "C84117\n"
     ]
    },
    {
     "data": {
      "image/png": "[encoded data removed]",
      "text/plain": [
       "<Figure size 432x288 with 1 Axes>"
      ]
     },
     "metadata": {},
     "output_type": "display_data"
    },
    {
     "name": "stdout",
     "output_type": "stream",
     "text": [
      "M85778\n"
     ]
    },
    {
     "data": {
      "image/png": "[encoded data removed]",
      "text/plain": [
       "<Figure size 432x288 with 1 Axes>"
      ]
     },
     "metadata": {},
     "output_type": "display_data"
    },
    {
     "name": "stdout",
     "output_type": "stream",
     "text": [
      "Y02002\n"
     ]
    },
    {
     "data": {
      "image/png": "[encoded data removed]",
      "text/plain": [
       "<Figure size 432x288 with 1 Axes>"
      ]
     },
     "metadata": {},
     "output_type": "display_data"
    },
    {
     "name": "stdout",
     "output_type": "stream",
     "text": [
      "Y02622\n"
     ]
    },
    {
     "data": {
      "image/png": "[encoded data removed]",
      "text/plain": [
       "<Figure size 432x288 with 1 Axes>"
      ]
     },
     "metadata": {},
     "output_type": "display_data"
    }
   ],
   "source": [
    "for practice in practices[0:6]:\n",
    "    print(practice)\n",
    "    pyramid(df, practice, '2018-09-01')"
   ]
  }
 ],
 "metadata": {
  "kernelspec": {
   "display_name": "Python (jupyter virtualenv)",
   "language": "python",
   "name": "jupyter"
  },
  "language_info": {
   "codemirror_mode": {
    "name": "ipython",
    "version": 3
   },
   "file_extension": ".py",
   "mimetype": "text/x-python",
   "name": "python",
   "nbconvert_exporter": "python",
   "pygments_lexer": "ipython3",
   "version": "3.6.5"
  }
 },
 "nbformat": 4,
 "nbformat_minor": 2
}
