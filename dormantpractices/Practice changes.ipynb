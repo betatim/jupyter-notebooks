{
 "cells": [
  {
   "cell_type": "markdown",
   "metadata": {},
   "source": [
    "# Practice changes analysis\n",
    "\n",
    "Practice codes are the unique identifier used to track prescribing in the Practices Prescribing Data.\n",
    "\n",
    "We assume that a practice code represents prescribing at a particular location.\n",
    "\n",
    "This analysis compares `epraccur.csv` data from Feb 2016 and March 2017. The current data is made available [here](https://digital.nhs.uk/organisation-data-service/data-downloads/gp-data).\n",
    "\n"
   ]
  },
  {
   "cell_type": "code",
   "execution_count": 97,
   "metadata": {},
   "outputs": [],
   "source": [
    "import pandas as pd\n",
    "import numpy as np\n",
    "headers = [\n",
    "    'code','name','postcode','status_code','setting']\n",
    "df1 = pd.read_csv(\"2016_02_epraccur.csv\", names=headers, usecols=[0,1,9,12,25])\n",
    "df2 = pd.read_csv(\"2017_03_epraccur.csv\", names=headers, usecols=[0,1,9,12,25])\n",
    "df1 = df1.set_index('code') \n",
    "df2 = df2.set_index('code')"
   ]
  },
  {
   "cell_type": "markdown",
   "metadata": {},
   "source": [
    "First, we make a table that joins the data from both dates"
   ]
  },
  {
   "cell_type": "code",
   "execution_count": 99,
   "metadata": {},
   "outputs": [
    {
     "data": {
      "text/html": [
       "<div>\n",
       "<table border=\"1\" class=\"dataframe\">\n",
       "  <thead>\n",
       "    <tr style=\"text-align: right;\">\n",
       "      <th></th>\n",
       "      <th>name</th>\n",
       "      <th>postcode</th>\n",
       "      <th>status_code</th>\n",
       "      <th>setting</th>\n",
       "      <th>name2017</th>\n",
       "      <th>postcode2017</th>\n",
       "      <th>status_code2017</th>\n",
       "      <th>setting2017</th>\n",
       "    </tr>\n",
       "    <tr>\n",
       "      <th>code</th>\n",
       "      <th></th>\n",
       "      <th></th>\n",
       "      <th></th>\n",
       "      <th></th>\n",
       "      <th></th>\n",
       "      <th></th>\n",
       "      <th></th>\n",
       "      <th></th>\n",
       "    </tr>\n",
       "  </thead>\n",
       "  <tbody>\n",
       "    <tr>\n",
       "      <th>A81001</th>\n",
       "      <td>THE DENSHAM SURGERY</td>\n",
       "      <td>TS18 1HU</td>\n",
       "      <td>A</td>\n",
       "      <td>4</td>\n",
       "      <td>THE DENSHAM SURGERY</td>\n",
       "      <td>TS18 1HU</td>\n",
       "      <td>A</td>\n",
       "      <td>4</td>\n",
       "    </tr>\n",
       "    <tr>\n",
       "      <th>A81002</th>\n",
       "      <td>QUEENS PARK MEDICAL CENTRE</td>\n",
       "      <td>TS18 2AW</td>\n",
       "      <td>A</td>\n",
       "      <td>4</td>\n",
       "      <td>QUEENS PARK MEDICAL CENTRE</td>\n",
       "      <td>TS18 2AW</td>\n",
       "      <td>A</td>\n",
       "      <td>4</td>\n",
       "    </tr>\n",
       "    <tr>\n",
       "      <th>A81003</th>\n",
       "      <td>VICTORIA MEDICAL PRACTICE</td>\n",
       "      <td>TS26 8DB</td>\n",
       "      <td>A</td>\n",
       "      <td>4</td>\n",
       "      <td>VICTORIA MEDICAL PRACTICE</td>\n",
       "      <td>TS26 8DB</td>\n",
       "      <td>D</td>\n",
       "      <td>4</td>\n",
       "    </tr>\n",
       "    <tr>\n",
       "      <th>A81004</th>\n",
       "      <td>WOODLANDS ROAD SURGERY</td>\n",
       "      <td>TS1 3BE</td>\n",
       "      <td>A</td>\n",
       "      <td>4</td>\n",
       "      <td>WOODLANDS ROAD SURGERY</td>\n",
       "      <td>TS1 3BE</td>\n",
       "      <td>A</td>\n",
       "      <td>4</td>\n",
       "    </tr>\n",
       "    <tr>\n",
       "      <th>A81005</th>\n",
       "      <td>SPRINGWOOD SURGERY</td>\n",
       "      <td>TS14 7DJ</td>\n",
       "      <td>A</td>\n",
       "      <td>4</td>\n",
       "      <td>SPRINGWOOD SURGERY</td>\n",
       "      <td>TS14 7DJ</td>\n",
       "      <td>A</td>\n",
       "      <td>4</td>\n",
       "    </tr>\n",
       "  </tbody>\n",
       "</table>\n",
       "</div>"
      ],
      "text/plain": [
       "                              name  postcode status_code  setting  \\\n",
       "code                                                                \n",
       "A81001         THE DENSHAM SURGERY  TS18 1HU           A        4   \n",
       "A81002  QUEENS PARK MEDICAL CENTRE  TS18 2AW           A        4   \n",
       "A81003   VICTORIA MEDICAL PRACTICE  TS26 8DB           A        4   \n",
       "A81004      WOODLANDS ROAD SURGERY   TS1 3BE           A        4   \n",
       "A81005          SPRINGWOOD SURGERY  TS14 7DJ           A        4   \n",
       "\n",
       "                          name2017 postcode2017 status_code2017  setting2017  \n",
       "code                                                                          \n",
       "A81001         THE DENSHAM SURGERY     TS18 1HU               A            4  \n",
       "A81002  QUEENS PARK MEDICAL CENTRE     TS18 2AW               A            4  \n",
       "A81003   VICTORIA MEDICAL PRACTICE     TS26 8DB               D            4  \n",
       "A81004      WOODLANDS ROAD SURGERY      TS1 3BE               A            4  \n",
       "A81005          SPRINGWOOD SURGERY     TS14 7DJ               A            4  "
      ]
     },
     "execution_count": 99,
     "metadata": {},
     "output_type": "execute_result"
    }
   ],
   "source": [
    "joined = df1.join(df2, how='inner',  rsuffix='2017')\n",
    "joined.head()\n",
    "\n"
   ]
  },
  {
   "cell_type": "markdown",
   "metadata": {},
   "source": [
    "Now let's focus on items whose status has changed from closed to something else"
   ]
  },
  {
   "cell_type": "code",
   "execution_count": 103,
   "metadata": {},
   "outputs": [
    {
     "name": "stdout",
     "output_type": "stream",
     "text": [
      "0 practices went from closed to something else\n"
     ]
    }
   ],
   "source": [
    "changed_from_closed = joined[(joined.status_code != joined.status_code2017) & (joined.status_code == 'C')]\n",
    "print \"%s practices went from closed to something else\" % changed_from_closed.status_code.count()\n",
    "#changed[(changed.setting != changed.setting2017) & (changed.status_code2017 != 'C') & ((changed.setting == 4)|(changed.setting2017 == 4))]"
   ]
  },
  {
   "cell_type": "code",
   "execution_count": 105,
   "metadata": {},
   "outputs": [
    {
     "name": "stdout",
     "output_type": "stream",
     "text": [
      "321 practices went from dormant to something else\n"
     ]
    }
   ],
   "source": [
    "changed_from_dormant = joined[(joined.status_code != joined.status_code2017) & (joined.status_code == 'D')]\n",
    "print \"%s practices went from dormant to something else\" % changed_from_dormant.status_code.count()\n",
    "#changed[(changed.setting != changed.setting2017) & (changed.status_code2017 != 'C') & ((changed.setting == 4)|(changed.setting2017 == 4))]"
   ]
  },
  {
   "cell_type": "code",
   "execution_count": 107,
   "metadata": {},
   "outputs": [
    {
     "data": {
      "text/html": [
       "<div>\n",
       "<table border=\"1\" class=\"dataframe\">\n",
       "  <thead>\n",
       "    <tr style=\"text-align: right;\">\n",
       "      <th></th>\n",
       "      <th>name</th>\n",
       "      <th>postcode</th>\n",
       "      <th>status_code</th>\n",
       "      <th>setting</th>\n",
       "      <th>name2017</th>\n",
       "      <th>postcode2017</th>\n",
       "      <th>status_code2017</th>\n",
       "      <th>setting2017</th>\n",
       "    </tr>\n",
       "    <tr>\n",
       "      <th>code</th>\n",
       "      <th></th>\n",
       "      <th></th>\n",
       "      <th></th>\n",
       "      <th></th>\n",
       "      <th></th>\n",
       "      <th></th>\n",
       "      <th></th>\n",
       "      <th></th>\n",
       "    </tr>\n",
       "  </thead>\n",
       "  <tbody>\n",
       "    <tr>\n",
       "      <th>A81069</th>\n",
       "      <td>RAINBOW SURGERY</td>\n",
       "      <td>TS10 4NW</td>\n",
       "      <td>D</td>\n",
       "      <td>4</td>\n",
       "      <td>RAINBOW SURGERY</td>\n",
       "      <td>TS10 4NW</td>\n",
       "      <td>C</td>\n",
       "      <td>4</td>\n",
       "    </tr>\n",
       "    <tr>\n",
       "      <th>A82011</th>\n",
       "      <td>HARTINGTON STREET MEDICAL PRACTICE</td>\n",
       "      <td>LA14 5SL</td>\n",
       "      <td>D</td>\n",
       "      <td>4</td>\n",
       "      <td>HARTINGTON STREET MEDICAL PRACTICE</td>\n",
       "      <td>LA14 5SL</td>\n",
       "      <td>C</td>\n",
       "      <td>4</td>\n",
       "    </tr>\n",
       "    <tr>\n",
       "      <th>A82619</th>\n",
       "      <td>NELSON STREET SURGERY</td>\n",
       "      <td>LA15 8AF</td>\n",
       "      <td>D</td>\n",
       "      <td>4</td>\n",
       "      <td>NELSON STREET SURGERY</td>\n",
       "      <td>LA15 8AF</td>\n",
       "      <td>C</td>\n",
       "      <td>4</td>\n",
       "    </tr>\n",
       "    <tr>\n",
       "      <th>A82635</th>\n",
       "      <td>GROSVENOR HOUSE SURGERY (W)</td>\n",
       "      <td>CA1 1LB</td>\n",
       "      <td>D</td>\n",
       "      <td>4</td>\n",
       "      <td>GROSVENOR HOUSE SURGERY (W)</td>\n",
       "      <td>CA1 1LB</td>\n",
       "      <td>C</td>\n",
       "      <td>4</td>\n",
       "    </tr>\n",
       "    <tr>\n",
       "      <th>A82641</th>\n",
       "      <td>GROSVENOR HOUSE SURGERY (F)</td>\n",
       "      <td>CA1 1LB</td>\n",
       "      <td>D</td>\n",
       "      <td>4</td>\n",
       "      <td>GROSVENOR HOUSE SURGERY (F)</td>\n",
       "      <td>CA1 1LB</td>\n",
       "      <td>C</td>\n",
       "      <td>4</td>\n",
       "    </tr>\n",
       "  </tbody>\n",
       "</table>\n",
       "</div>"
      ],
      "text/plain": [
       "                                      name  postcode status_code  setting  \\\n",
       "code                                                                        \n",
       "A81069                     RAINBOW SURGERY  TS10 4NW           D        4   \n",
       "A82011  HARTINGTON STREET MEDICAL PRACTICE  LA14 5SL           D        4   \n",
       "A82619               NELSON STREET SURGERY  LA15 8AF           D        4   \n",
       "A82635         GROSVENOR HOUSE SURGERY (W)   CA1 1LB           D        4   \n",
       "A82641         GROSVENOR HOUSE SURGERY (F)   CA1 1LB           D        4   \n",
       "\n",
       "                                  name2017 postcode2017 status_code2017  \\\n",
       "code                                                                      \n",
       "A81069                     RAINBOW SURGERY     TS10 4NW               C   \n",
       "A82011  HARTINGTON STREET MEDICAL PRACTICE     LA14 5SL               C   \n",
       "A82619               NELSON STREET SURGERY     LA15 8AF               C   \n",
       "A82635         GROSVENOR HOUSE SURGERY (W)      CA1 1LB               C   \n",
       "A82641         GROSVENOR HOUSE SURGERY (F)      CA1 1LB               C   \n",
       "\n",
       "        setting2017  \n",
       "code                 \n",
       "A81069            4  \n",
       "A82011            4  \n",
       "A82619            4  \n",
       "A82635            4  \n",
       "A82641            4  "
      ]
     },
     "execution_count": 107,
     "metadata": {},
     "output_type": "execute_result"
    }
   ],
   "source": [
    "changed_from_dormant.head()"
   ]
  },
  {
   "cell_type": "code",
   "execution_count": 108,
   "metadata": {},
   "outputs": [
    {
     "name": "stdout",
     "output_type": "stream",
     "text": [
      "321 of these practices kept the same name\n"
     ]
    }
   ],
   "source": [
    "# Looks like a lot of these seemed to change their names?\n",
    "\n",
    "print \"%s of these practices kept the same name\" % changed_from_dormant[changed_from_dormant.name == changed_from_dormant.name2017].status_code.count()"
   ]
  },
  {
   "cell_type": "code",
   "execution_count": 110,
   "metadata": {},
   "outputs": [
    {
     "data": {
      "text/html": [
       "<div>\n",
       "<table border=\"1\" class=\"dataframe\">\n",
       "  <thead>\n",
       "    <tr style=\"text-align: right;\">\n",
       "      <th></th>\n",
       "      <th>name</th>\n",
       "      <th>postcode</th>\n",
       "      <th>status_code</th>\n",
       "      <th>setting</th>\n",
       "      <th>name2017</th>\n",
       "      <th>postcode2017</th>\n",
       "      <th>status_code2017</th>\n",
       "      <th>setting2017</th>\n",
       "    </tr>\n",
       "    <tr>\n",
       "      <th>code</th>\n",
       "      <th></th>\n",
       "      <th></th>\n",
       "      <th></th>\n",
       "      <th></th>\n",
       "      <th></th>\n",
       "      <th></th>\n",
       "      <th></th>\n",
       "      <th></th>\n",
       "    </tr>\n",
       "  </thead>\n",
       "  <tbody>\n",
       "    <tr>\n",
       "      <th>Y02514</th>\n",
       "      <td>LITHERLAND PRIMARY CARE WALK-IN SERVICE</td>\n",
       "      <td>L21 9JN</td>\n",
       "      <td>D</td>\n",
       "      <td>4</td>\n",
       "      <td>LITHERLAND PRIMARY CARE WALK-IN SERVICE</td>\n",
       "      <td>L21 9JN</td>\n",
       "      <td>A</td>\n",
       "      <td>4</td>\n",
       "    </tr>\n",
       "    <tr>\n",
       "      <th>Y02823</th>\n",
       "      <td>DMC VICARAGE LANE</td>\n",
       "      <td>E15 4ES</td>\n",
       "      <td>D</td>\n",
       "      <td>4</td>\n",
       "      <td>DMC VICARAGE LANE</td>\n",
       "      <td>E15 4ES</td>\n",
       "      <td>A</td>\n",
       "      <td>4</td>\n",
       "    </tr>\n",
       "  </tbody>\n",
       "</table>\n",
       "</div>"
      ],
      "text/plain": [
       "                                           name postcode status_code  setting  \\\n",
       "code                                                                            \n",
       "Y02514  LITHERLAND PRIMARY CARE WALK-IN SERVICE  L21 9JN           D        4   \n",
       "Y02823                        DMC VICARAGE LANE  E15 4ES           D        4   \n",
       "\n",
       "                                       name2017 postcode2017 status_code2017  \\\n",
       "code                                                                           \n",
       "Y02514  LITHERLAND PRIMARY CARE WALK-IN SERVICE      L21 9JN               A   \n",
       "Y02823                        DMC VICARAGE LANE      E15 4ES               A   \n",
       "\n",
       "        setting2017  \n",
       "code                 \n",
       "Y02514            4  \n",
       "Y02823            4  "
      ]
     },
     "execution_count": 110,
     "metadata": {},
     "output_type": "execute_result"
    }
   ],
   "source": [
    "changed_from_dormant[changed_from_dormant.status_code2017 != 'C']"
   ]
  }
 ],
 "metadata": {
  "kernelspec": {
   "display_name": "Python 2",
   "language": "python",
   "name": "python2"
  },
  "language_info": {
   "codemirror_mode": {
    "name": "ipython",
    "version": 2
   },
   "file_extension": ".py",
   "mimetype": "text/x-python",
   "name": "python",
   "nbconvert_exporter": "python",
   "pygments_lexer": "ipython2",
   "version": "2.7.13"
  }
 },
 "nbformat": 4,
 "nbformat_minor": 2
}
