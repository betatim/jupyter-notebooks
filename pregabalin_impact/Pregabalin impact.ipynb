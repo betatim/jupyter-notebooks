{
 "cells": [
  {
   "cell_type": "markdown",
   "metadata": {
    "hideCode": false,
    "hidePrompt": false
   },
   "source": [
    "# The clinician impact and financial cost to the NHS of Pfizer’s court case over pregabalin"
   ]
  },
  {
   "cell_type": "markdown",
   "metadata": {
    "hideCode": false,
    "hidePrompt": false
   },
   "source": [
    "## The impact of the NHS England letter on prescribers in the NHS"
   ]
  },
  {
   "cell_type": "markdown",
   "metadata": {
    "hideCode": false,
    "hidePrompt": false
   },
   "source": [
    "In February 2015 an English Court ordered NHS England to write to all prescribers and pharmacists in England, advising that when pregabalin was prescribed for neuropathic pain (thought to be appoximately 70% of all prescriptions) the brand Lyrica should be prescribed, rather than the generic drug.\n",
    "\n",
    "In order to assess the impact, we need to calculate whether GPs followed this guidance."
   ]
  },
  {
   "cell_type": "markdown",
   "metadata": {
    "hideCode": false,
    "hidePrompt": false
   },
   "source": [
    "All data used in this Jupyter notebook is from OpenPrescribing.net's Google BigQuery database.  \n",
    "\n",
    "In order to reduce costs and server overheads, a BigQuery table was created containing all prescribing data from the main prescribing database for the eight strengths of pregabalin capsules available in England, using partial BNF codes to find all brands and generic prescriptions:\n",
    "\n",
    "* 0408010AE%AA - pregabalin 25mg capsules\n",
    "* 0408010AE%AB - pregabalin 50mg capsules\n",
    "* 0408010AE%AC - pregabalin 75mg capsules\n",
    "* 0408010AE%AD - pregabalin 100mg capsules\n",
    "* 0408010AE%AE - pregabalin 150mg capsules\n",
    "* 0408010AE%AF - pregabalin 200mg capsules\n",
    "* 0408010AE%AI - pregabalin 225mg capsules\n",
    "* 0408010AE%AG - pregabalin 300mg capsules\n"
   ]
  },
  {
   "cell_type": "markdown",
   "metadata": {
    "hideCode": false,
    "hidePrompt": false
   },
   "source": [
    "### Obtaining data from BigQuery"
   ]
  },
  {
   "cell_type": "code",
   "execution_count": 1,
   "metadata": {
    "collapsed": true,
    "hideCode": false,
    "hidePrompt": false
   },
   "outputs": [],
   "source": [
    "#import libraries required for analysis\n",
    "import pandas as pd\n",
    "import numpy as np\n",
    "import matplotlib\n",
    "import matplotlib.pyplot as plt\n",
    "import seaborn as sns\n",
    "from matplotlib.dates import  DateFormatter\n",
    "%matplotlib inline"
   ]
  },
  {
   "cell_type": "code",
   "execution_count": 2,
   "metadata": {
    "hideCode": false,
    "hidePrompt": false
   },
   "outputs": [
    {
     "name": "stdout",
     "output_type": "stream",
     "text": [
      "Requesting query... ok.\n",
      "Job ID: job_2vy_M7YC_ej-ghOFGiCzAdXiLw5n\n",
      "Query running...\n",
      "  Elapsed 10.88 s. Waiting...\n",
      "Query done.\n",
      "Processed: 177.6 MB\n",
      "Standard price: $0.00 USD\n",
      "\n",
      "Retrieving results...\n",
      "  Got page: 1; 100.0% done. Elapsed 12.6 s.\n",
      "Got 55 rows.\n",
      "\n",
      "Total time taken 12.62 s.\n",
      "Finished at 2018-01-29 13:54:30.\n"
     ]
    }
   ],
   "source": [
    "projectid = \"ebmdatalab\"\n",
    "#obtain overall data for all CCG prescribing for pregabalin capsules\n",
    "overall_df = pd.read_gbq(\"\"\"\n",
    "SELECT\n",
    "  FORMAT_TIMESTAMP(\"%B %Y\", pregabalin.month) as month_string,\n",
    "  pregabalin.month as period,\n",
    "  SUM(CASE\n",
    "      WHEN SUBSTR(pregabalin.bnf_code,10,2)='BB' THEN items\n",
    "      ELSE 0 END) AS lyrica_items,\n",
    "  SUM(CASE\n",
    "      WHEN SUBSTR(pregabalin.bnf_code,10,2)='AA' THEN items\n",
    "      ELSE 0 END) AS generic_items,\n",
    "  SUM(CASE\n",
    "      WHEN SUBSTR(pregabalin.bnf_code,10,2) NOT IN ('AA', 'BB')THEN items\n",
    "      ELSE 0 END) AS other_brand_items\n",
    "FROM\n",
    "ebmdatalab.richard.pregabalin_data AS pregabalin\n",
    "INNER JOIN\n",
    "  ebmdatalab.hscic.ccgs AS ccg\n",
    "ON\n",
    "  pregabalin.pct=ccg.code\n",
    "WHERE\n",
    "ccg.org_type = 'CCG'\n",
    "and pregabalin.month >='2013-04-01 00:00:00'\n",
    "GROUP BY\n",
    "  period, month_string\n",
    "ORDER BY\n",
    "  period\n",
    "\"\"\", projectid, dialect='standard')"
   ]
  },
  {
   "cell_type": "code",
   "execution_count": 3,
   "metadata": {
    "hideCode": false,
    "hidePrompt": false
   },
   "outputs": [
    {
     "name": "stdout",
     "output_type": "stream",
     "text": [
      "Requesting query... ok.\n",
      "Job ID: job_YUWlzzu0LRLP9VkDQDVeqA546rJK\n",
      "Query running...\n",
      "Query done.\n",
      "Processed: 177.6 MB\n",
      "Standard price: $0.00 USD\n",
      "\n",
      "Retrieving results...\n",
      "  Got page: 1; 100.0% done. Elapsed 8.5 s.\n",
      "Got 11438 rows.\n",
      "\n",
      "Total time taken 8.86 s.\n",
      "Finished at 2018-01-29 13:54:43.\n"
     ]
    }
   ],
   "source": [
    "#obtain overall data for prescribing for pregabalin capsules at CCG level\n",
    "ccg_df = pd.read_gbq(\"\"\"\n",
    "SELECT\n",
    "  pregabalin.month as period,\n",
    "  pregabalin.pct,\n",
    "  SUM(CASE\n",
    "      WHEN SUBSTR(pregabalin.bnf_code,10,2)='BB' THEN items\n",
    "      ELSE 0 END) AS lyrica_items,\n",
    "  SUM(CASE\n",
    "      WHEN SUBSTR(pregabalin.bnf_code,10,2)='AA' THEN items\n",
    "      ELSE 0 END) AS generic_items,\n",
    "  SUM(CASE\n",
    "      WHEN SUBSTR(pregabalin.bnf_code,10,2) NOT IN ('AA', 'BB')THEN items\n",
    "      ELSE 0 END) AS other_brand_items,\n",
    "  SUM(items) AS all_items,\n",
    "  IEEE_DIVIDE(SUM(\n",
    "      CASE\n",
    "        WHEN SUBSTR(pregabalin.bnf_code,10,2)='BB' THEN items\n",
    "        ELSE 0 END), SUM(items)) AS lyrica_percent,\n",
    "  IEEE_DIVIDE(SUM(\n",
    "      CASE\n",
    "        WHEN SUBSTR(pregabalin.bnf_code,10,2) NOT IN ('AA', 'BB')THEN items\n",
    "        ELSE 0 END), SUM(items)) AS other_brands_percent\n",
    "FROM\n",
    "ebmdatalab.richard.pregabalin_data AS pregabalin\n",
    "INNER JOIN\n",
    "  ebmdatalab.hscic.ccgs AS ccg\n",
    "ON\n",
    "  pregabalin.pct=ccg.code\n",
    "WHERE\n",
    " ccg.org_type = 'CCG'\n",
    " and pregabalin.month >='2013-04-01 00:00:00'\n",
    "GROUP BY\n",
    "  period,\n",
    "  pct\n",
    "ORDER BY\n",
    "  period,\n",
    "  pct\n",
    "\"\"\", projectid, dialect='standard')"
   ]
  },
  {
   "cell_type": "code",
   "execution_count": 4,
   "metadata": {
    "hideCode": false,
    "hidePrompt": false
   },
   "outputs": [
    {
     "name": "stdout",
     "output_type": "stream",
     "text": [
      "Requesting query... ok.\n",
      "Job ID: job_OddUK5j2cwqJsoI2jfTxaQizm6nB\n",
      "Query running...\n",
      "  Elapsed 10.76 s. Waiting...\n",
      "Query done.\n",
      "Processed: 203.5 MB\n",
      "Standard price: $0.00 USD\n",
      "\n",
      "Retrieving results...\n",
      "  Got page: 1; 10.0% done. Elapsed 20.47 s.\n",
      "  Got page: 2; 21.0% done. Elapsed 27.63 s.\n",
      "  Got page: 3; 31.0% done. Elapsed 33.92 s.\n",
      "  Got page: 4; 42.0% done. Elapsed 39.41 s.\n",
      "  Got page: 5; 52.0% done. Elapsed 45.26 s.\n",
      "  Got page: 6; 63.0% done. Elapsed 50.86 s.\n",
      "  Got page: 7; 73.0% done. Elapsed 57.39 s.\n",
      "  Got page: 8; 84.0% done. Elapsed 64.78 s.\n",
      "  Got page: 9; 94.0% done. Elapsed 71.62 s.\n",
      "  Got page: 10; 100.0% done. Elapsed 75.26 s.\n",
      "Got 418895 rows.\n",
      "\n",
      "Total time taken 84.92 s.\n",
      "Finished at 2018-01-29 13:56:21.\n"
     ]
    }
   ],
   "source": [
    "#obtain overall data for prescribing for pregabalin capsules at practice level where practices with list size of => 1000\n",
    "\n",
    "practice_df = pd.read_gbq(\"\"\"\n",
    "SELECT\n",
    "  pregabalin.month as period,\n",
    "  pregabalin.practice,\n",
    "  SUM(CASE\n",
    "      WHEN SUBSTR(pregabalin.bnf_code,10,2)='BB' THEN items\n",
    "      ELSE 0 END) AS lyrica_items,\n",
    "  SUM(CASE\n",
    "      WHEN SUBSTR(  pregabalin.bnf_code,10,2)='AA' THEN items\n",
    "      ELSE 0 END) AS generic_items,\n",
    "  SUM(CASE\n",
    "      WHEN SUBSTR(  pregabalin.bnf_code,10,2) NOT IN ('AA', 'BB')THEN items\n",
    "      ELSE 0 END) AS other_brand_items,\n",
    "  SUM(items) AS all_items,\n",
    "  IEEE_DIVIDE(SUM(\n",
    "      CASE\n",
    "        WHEN SUBSTR(  pregabalin.bnf_code,10,2)='BB' THEN items\n",
    "        ELSE 0 END), SUM(items)) AS lyrica_percent,\n",
    "  IEEE_DIVIDE(SUM(\n",
    "      CASE\n",
    "        WHEN SUBSTR(  pregabalin.bnf_code,10,2) NOT IN ('AA', 'BB')THEN items\n",
    "        ELSE 0 END), SUM(items)) AS other_brands_percent\n",
    "FROM\n",
    "ebmdatalab.richard.pregabalin_data AS pregabalin\n",
    "  INNER JOIN\n",
    "  ebmdatalab.hscic.practice_statistics AS listsize\n",
    "ON\n",
    "    pregabalin.practice=listsize.practice\n",
    "  AND   pregabalin.month=listsize.month\n",
    "WHERE\n",
    "listsize.total_list_size >=1000\n",
    "and pregabalin.month >='2013-04-01 00:00:00'\n",
    "GROUP BY\n",
    "  period,\n",
    "  practice\n",
    "ORDER BY\n",
    "  period,\n",
    "  practice\n",
    "\"\"\", projectid, dialect='standard')"
   ]
  },
  {
   "cell_type": "markdown",
   "metadata": {
    "hideCode": false,
    "hidePrompt": false
   },
   "source": [
    "### Create stacked bar chart for overall prescribing of Lyrica, generic and other brands in NHS in England"
   ]
  },
  {
   "cell_type": "code",
   "execution_count": 5,
   "metadata": {
    "collapsed": true,
    "hideCode": false,
    "hidePrompt": false
   },
   "outputs": [],
   "source": [
    "#Create additional columns for bar stacks\n",
    "overall_df['lyrica_and_generic']=overall_df['lyrica_items']+overall_df['generic_items']\n",
    "overall_df['all_items']=overall_df['lyrica_items']+overall_df['generic_items']+overall_df['other_brand_items']"
   ]
  },
  {
   "cell_type": "code",
   "execution_count": 6,
   "metadata": {
    "hideCode": false,
    "hidePrompt": false
   },
   "outputs": [
    {
     "name": "stderr",
     "output_type": "stream",
     "text": [
      "C:\\Users\\ajwalker\\Anaconda2\\lib\\site-packages\\seaborn\\categorical.py:1428: FutureWarning: remove_na is deprecated and is a private function. Do not use.\n",
      "  stat_data = remove_na(group_data)\n"
     ]
    },
    {
     "data": {
      "image/png": "[encoded data removed]",
      "text/plain": [
       "<matplotlib.figure.Figure at 0xcf9d278>"
      ]
     },
     "metadata": {},
     "output_type": "display_data"
    }
   ],
   "source": [
    "#Create stacked graph in Seaborn, using overlayed plots\n",
    "#setup style and size\n",
    "sns.set_style(\"white\")\n",
    "sns.set_context({\"figure.figsize\": (24, 10)})\n",
    "#Plot 1 - \"All items\"  - will show \"other brands\" in final plot\n",
    "ax = sns.barplot(x=\"month_string\", y=\"all_items\",data=overall_df,color = \"lightsteelblue\")\n",
    "#Plot 2 - overlay - \"generic_and_lyrica\" series  - will show Lyrica in final plot\n",
    "middle_plot = sns.barplot(x=\"month_string\", y=\"lyrica_and_generic\",data=overall_df, color = \"steelblue\")\n",
    "#Plot 3 - overlay - \"generic\" series - shows generic in final plot\n",
    "bottom_plot = sns.barplot(x=\"month_string\", y=\"generic_items\",data=overall_df, color = \"darkblue\")\n",
    "\n",
    "#create legend\n",
    "topbar = plt.Rectangle((0,0),1,1,fc=\"lightsteelblue\", edgecolor = 'none')\n",
    "middlebar = plt.Rectangle((0,0),1,1,fc=\"steelblue\", edgecolor = 'none')\n",
    "bottombar = plt.Rectangle((0,0),1,1,fc='darkblue',  edgecolor = 'none')\n",
    "l = plt.legend([bottombar, middlebar, topbar], ['Generic', 'Lyrica', 'Other Brands'], loc=0, ncol = 3, prop={'size':16})\n",
    "l.draw_frame(False)\n",
    "\n",
    "#axes formatting\n",
    "sns.despine(left=True)\n",
    "plt.xticks(rotation=90)\n",
    "bottom_plot.set_ylabel(\"Items for pregabalin capsules\")\n",
    "bottom_plot.set_xlabel(\"Month\")\n",
    "for item in ([bottom_plot.xaxis.label, bottom_plot.yaxis.label] +\n",
    "             bottom_plot.get_xticklabels() + bottom_plot.get_yticklabels()):\n",
    "    item.set_fontsize(16)"
   ]
  },
  {
   "cell_type": "markdown",
   "metadata": {
    "hideCode": false,
    "hidePrompt": false
   },
   "source": [
    "### Create timeseries for CCGs and practice deciles of percentage of pregabalin as Lyrica"
   ]
  },
  {
   "cell_type": "code",
   "execution_count": 26,
   "metadata": {
    "hideCode": false,
    "hidePrompt": false
   },
   "outputs": [],
   "source": [
    "#create deciles for practices\n",
    "x = np.arange(0.1, 1, 0.1)\n",
    "practice_deciles = practice_df.groupby('period')['lyrica_percent'].quantile(x)\n",
    "practice_deciles_df=pd.DataFrame(practice_deciles)\n",
    "practice_deciles_df=practice_deciles_df.reset_index()\n",
    "# create integer range of percentiles as integers are better for  charts\n",
    "practice_deciles_df[\"index\"] = (practice_deciles_df.level_1*10).map(int)\n",
    "practice_deciles_df['period'] = practice_deciles_df['period'].astype(str)\n",
    "# set format for dates:\n",
    "practice_deciles_df['period'] = [datetime.datetime.strptime(date, '%Y-%m-%d').date() for date in practice_deciles_df['period']]\n",
    "\n",
    "#create deciles for CCGs\n",
    "x = np.arange(0.1, 1, 0.1)\n",
    "ccg_deciles = ccg_df.groupby('period')['lyrica_percent'].quantile(x)\n",
    "ccg_deciles_df=pd.DataFrame(ccg_deciles)\n",
    "ccg_deciles_df=ccg_deciles_df.reset_index()\n",
    "# create integer range of percentiles as integers are better for  charts\n",
    "ccg_deciles_df[\"index\"] = (ccg_deciles_df.level_1*10).map(int)\n",
    "ccg_deciles_df['period'] = ccg_deciles_df['period'].astype(str)\n",
    "# set format for dates:\n",
    "ccg_deciles_df['period'] = [datetime.datetime.strptime(date, '%Y-%m-%d').date() for date in ccg_deciles_df['period']]"
   ]
  },
  {
   "cell_type": "raw",
   "metadata": {
    "hideCode": false,
    "hidePrompt": false
   },
   "source": [
    "OLD Rich code (can delete unless needed)\n",
    "# Two subplots, unpack the axes array immediately\n",
    "f, (ax1, ax2) = plt.subplots(1, 2, sharey=True, figsize=(24,10))\n",
    "ax1.plot_date (ccg_deciles_df.period, 100*ccg_deciles_df.lyrica_percent, linestyle =\"solid\", marker =\"\", color ='#1f3d7a' )\n",
    "ax1.set_title('CCGs', size=20)\n",
    "#ax1.xticks(rotation=90)\n",
    "plt.setp(ax1.xaxis.get_majorticklabels(), rotation=90)\n",
    "#fig.autofmt_xdate(rotation=90)\n",
    "ax1.xaxis.set_major_formatter(matplotlib.dates.DateFormatter('%B %Y'))\n",
    "ax1.set_xlim('2013-04-01','2017-10-01')\n",
    "ax1.yaxis.set_label_text(\"Lyrica as percentage of pregabalin items\", size=20)\n",
    "ax1.tick_params(labelsize=16)\n",
    "\n",
    "ax2.plot_date (practice_deciles_df.period, 100*practice_deciles_df.lyrica_percent, linestyle =\"solid\", marker =\"\", color ='#1f3d7a' )\n",
    "ax2.set_title('practices', size=20)\n",
    "plt.setp(ax2.xaxis.get_majorticklabels(), rotation=90)\n",
    "ax2.xaxis.set_major_formatter(matplotlib.dates.DateFormatter('%B %Y'))\n",
    "ax2.set_xlim('2013-04-01','2017-10-01')\n",
    "ax2.tick_params(labelsize=16)"
   ]
  },
  {
   "cell_type": "code",
   "execution_count": 43,
   "metadata": {
    "scrolled": false
   },
   "outputs": [
    {
     "data": {
      "image/png": "[encoded data removed]",
      "text/plain": [
       "<matplotlib.figure.Figure at 0x104fc8d0>"
      ]
     },
     "metadata": {},
     "output_type": "display_data"
    }
   ],
   "source": [
    "# Plot time series charts of deciles\n",
    "import matplotlib.pyplot as plt\n",
    "import datetime\n",
    "import matplotlib.gridspec as gridspec\n",
    "import seaborn as sns\n",
    "\n",
    "sns.set_style(\"whitegrid\",{'grid.color': '.9'})\n",
    "\n",
    "fig = plt.figure(figsize=(16,6.666)) \n",
    "gs = gridspec.GridSpec(1,2)  # grid layout for subplots\n",
    "\n",
    "# set sort order of drugs manually, and add grid refs to position each subplot:\n",
    "s = [(0,ccg_deciles_df,0,0,'CCGs'), (1,practice_deciles_df,0,1,'practices')]\n",
    "\n",
    "# Plot each subplot using a loop\n",
    "for i in s:\n",
    "    ax = plt.subplot(gs[i[2], i[3]],sharey=ax)  # position of subplot in grid using coordinates listed in s\n",
    "    for decile in range(1,10):   # plot each decile line\n",
    "        data = i[1].loc[(i[1]['index']==decile)]\n",
    "        if decile == 5:\n",
    "            ax.plot(data[\"period\"],100*data['lyrica_percent'],'b-',linewidth=0.7)\n",
    "        else:\n",
    "            ax.plot(data[\"period\"],100*data['lyrica_percent'],'b--',linewidth=0.4)\n",
    "    if  i[3]%2==0:    # set y axis title only for charts in leftmost column\n",
    "        ax.set_ylabel('Lyrica as percentage of pregabalin items', size =15, alpha=0.6)\n",
    "    ax.set_title(i[4],size = 18)\n",
    "    ax.set_ylim([0, 100*i[1]['lyrica_percent'].max()*1.05])  # set ymax across all subplots as largest value across dataset\n",
    "    ax.tick_params(labelsize=12)\n",
    "    ax.set_xlim([i[1]['period'].min(), i[1]['period'].max()]) # set x axis range as full date range\n",
    "    plt.setp(ax.xaxis.get_majorticklabels(), rotation=90)\n",
    "    ax.xaxis.set_major_formatter(matplotlib.dates.DateFormatter('%B %Y'))\n",
    "    \n",
    "plt.subplots_adjust(wspace = 0.07,hspace = 0.15)\n",
    "plt.savefig('Figure X.png', format='png', dpi=300)\n",
    "plt.show()"
   ]
  },
  {
   "cell_type": "markdown",
   "metadata": {
    "hideCode": false,
    "hidePrompt": false
   },
   "source": [
    "## Assessing the financial impact of possible Lyrica patent invalidity"
   ]
  },
  {
   "cell_type": "markdown",
   "metadata": {
    "hideCode": false,
    "hidePrompt": false
   },
   "source": [
    "In September 2015 the patent claim for Lyrica for neuropathic pain was found to be invalid by a UK Court. This was upheld on appeal in October 2016, and is due to be heard at the UK Supreme Court in early 2018.\n",
    "\n",
    "If the Supreme Court agrees with the ruling that the neuropathic pain patent is invalid, then it could be argued that the NHS has continued to pay for the cost of the patent product (Lyrica) rather than a cheaper generic version.\n",
    "\n",
    "There are two possible dates for this theoretical additional cost to be calculated from: 1) October 2015 (the first full month after the date of the original ruling) 2) August 2014 (the first full month after the marketing exclusivity for Lyrica ended).\n",
    "\n",
    "As the price of generic pregabalin was fixed in the Drug Tariff as Lyrica until August 2017 (the month after the disputed patent ended), it did not matter, from a cost perspective, whether generic or branded pregabalin was prescribed up until the tariff changed"
   ]
  },
  {
   "cell_type": "markdown",
   "metadata": {
    "hideCode": false,
    "hidePrompt": false
   },
   "source": [
    "### Assumptions made"
   ]
  },
  {
   "cell_type": "markdown",
   "metadata": {
    "hideCode": false,
    "hidePrompt": false
   },
   "source": [
    "1. Before the NHS England letter to GPs, pregabalin prescribing was approximately 99.5% generic.  We have assumed that prescribing of pregabalin, including Lyrica and all branded generics would revert to generic prescribing.\n",
    "2. If pregabalin had been fully available generically before August 2017, the Drug Tariff prices would have been the same in those earlier months than at August 2017\n",
    "3. The data calculated is for all FP10 data for England, including any prescribing from other providers which would have been charged at the same reimbursement rate as primary care.\n",
    "4. The calculations include a reduction of the mean \"National Average Discount Percentage\", which is what the NHS paid, as opposed to the NHS list price.  This was calculated as 7.49%"
   ]
  },
  {
   "cell_type": "markdown",
   "metadata": {
    "hideCode": false,
    "hidePrompt": false
   },
   "source": [
    "### Obtaining data from BigQuery"
   ]
  },
  {
   "cell_type": "code",
   "execution_count": 9,
   "metadata": {
    "hideCode": false,
    "hidePrompt": false
   },
   "outputs": [
    {
     "name": "stdout",
     "output_type": "stream",
     "text": [
      "Requesting query... ok.\n",
      "Job ID: job_sy6ChfLIO_imvwOeHrGqLQmPF6s7\n",
      "Query running...\n",
      "Query done.\n",
      "Cache hit.\n",
      "\n",
      "Retrieving results...\n",
      "Got 696 rows.\n",
      "\n",
      "Total time taken 0.98 s.\n",
      "Finished at 2018-01-29 13:10:34.\n"
     ]
    }
   ],
   "source": [
    "pregabalin_df = pd.read_gbq(\"\"\"\n",
    "SELECT\n",
    "  month AS period,\n",
    "  (CASE SUBSTR(bnf_code,14,2)\n",
    "      WHEN 'AA' THEN '25mg capsules'\n",
    "      WHEN 'AB' THEN '50mg capsules'\n",
    "      WHEN 'AC' THEN '75mg capsules'\n",
    "      WHEN 'AD' THEN '100mg capsules'\n",
    "      WHEN 'AE' THEN '150mg capsules'\n",
    "      WHEN 'AF' THEN '200mg capsules'\n",
    "      WHEN 'AI' THEN '225mg capsules'\n",
    "      WHEN 'AG' THEN '300mg capsules'\n",
    "      ELSE NULL END) AS strength,\n",
    "  SUM(quantity) AS quantity,\n",
    "  SUM(net_cost) AS nic\n",
    "FROM\n",
    "ebmdatalab.richard.pregabalin_data\n",
    "GROUP BY\n",
    "  period,\n",
    "  strength\n",
    "ORDER BY\n",
    "  period\n",
    "\"\"\", projectid, dialect='standard')"
   ]
  },
  {
   "cell_type": "markdown",
   "metadata": {
    "hideCode": false,
    "hidePrompt": false
   },
   "source": [
    "### Calculate the estimated impact per month"
   ]
  },
  {
   "cell_type": "code",
   "execution_count": 10,
   "metadata": {
    "hideCode": false,
    "hidePrompt": false
   },
   "outputs": [],
   "source": [
    "#create period as index\n",
    "pregabalin_df.index = pregabalin_df['period']\n",
    "del pregabalin_df['period']\n",
    "\n",
    "#define dt_ppu to calculate cost per capsule for each strength as per cost and pack size in August 2017 Drug Tariff\n",
    "def dt_ppu(c):\n",
    "    if c['strength'] == '25mg capsules':\n",
    "        return 1.87/56\n",
    "    if c['strength'] == '50mg capsules':\n",
    "        return 2.28/84\n",
    "    if c['strength'] == '75mg capsules':\n",
    "        return 2.03/56\n",
    "    if c['strength'] == '100mg capsules':\n",
    "        return 2.98/84\n",
    "    if c['strength'] == '150mg capsules':\n",
    "        return 2.29/56\n",
    "    if c['strength'] == '200mg capsules':\n",
    "        return 3.60/84\n",
    "    if c['strength'] == '225mg capsules':\n",
    "        return 3.11/56\n",
    "    if c['strength'] == '300mg capsules':\n",
    "        return 4.17/56\n",
    "    else:\n",
    "        return 0\n",
    "\n",
    "#apply cost per capsule to dataframe\n",
    "pregabalin_df['dt_ppu'] = pregabalin_df.apply(dt_ppu, axis=1)\n",
    "#calculate the estimated NIC @ August 2017 DT prices by multiplying quantity of capsule by price per unit\n",
    "pregabalin_df['dt_nic']=pregabalin_df['quantity']*pregabalin_df['dt_ppu']\n",
    "#calculate the difference in actual and estimated NIC\n",
    "pregabalin_df['nic_difference']=(pregabalin_df['nic']-pregabalin_df['dt_nic'])\n",
    "#calculate the estimated actual cost difference by applying 7.49% discount\n",
    "pregabalin_df['act_cost_difference']=(pregabalin_df['nic_difference']*.9251)"
   ]
  },
  {
   "cell_type": "markdown",
   "metadata": {
    "hideCode": false,
    "hidePrompt": false
   },
   "source": [
    "### Estimated impact from October 2015 - July 2017"
   ]
  },
  {
   "cell_type": "code",
   "execution_count": null,
   "metadata": {
    "collapsed": true,
    "hideCode": false,
    "hideOutput": true,
    "hidePrompt": false
   },
   "outputs": [],
   "source": []
  },
  {
   "cell_type": "code",
   "execution_count": 11,
   "metadata": {
    "hideCode": false,
    "hidePrompt": false
   },
   "outputs": [
    {
     "data": {
      "text/html": [
       "<div>\n",
       "<style>\n",
       "    .dataframe thead tr:only-child th {\n",
       "        text-align: right;\n",
       "    }\n",
       "\n",
       "    .dataframe thead th {\n",
       "        text-align: left;\n",
       "    }\n",
       "\n",
       "    .dataframe tbody tr th {\n",
       "        vertical-align: top;\n",
       "    }\n",
       "</style>\n",
       "<table border=\"1\" class=\"dataframe\">\n",
       "  <thead>\n",
       "    <tr style=\"text-align: right;\">\n",
       "      <th></th>\n",
       "      <th>strength</th>\n",
       "      <th>quantity</th>\n",
       "      <th>nic</th>\n",
       "      <th>dt_ppu</th>\n",
       "      <th>dt_nic</th>\n",
       "      <th>nic_difference</th>\n",
       "      <th>act_cost_difference</th>\n",
       "    </tr>\n",
       "    <tr>\n",
       "      <th>period</th>\n",
       "      <th></th>\n",
       "      <th></th>\n",
       "      <th></th>\n",
       "      <th></th>\n",
       "      <th></th>\n",
       "      <th></th>\n",
       "      <th></th>\n",
       "    </tr>\n",
       "  </thead>\n",
       "  <tbody>\n",
       "    <tr>\n",
       "      <th>2010-08-01</th>\n",
       "      <td>50mg capsules</td>\n",
       "      <td>1573754</td>\n",
       "      <td>1809813.44</td>\n",
       "      <td>0.027143</td>\n",
       "      <td>42716.180000</td>\n",
       "      <td>1.767097e+06</td>\n",
       "      <td>1.634742e+06</td>\n",
       "    </tr>\n",
       "    <tr>\n",
       "      <th>2010-08-01</th>\n",
       "      <td>225mg capsules</td>\n",
       "      <td>58346</td>\n",
       "      <td>67097.90</td>\n",
       "      <td>0.055536</td>\n",
       "      <td>3240.286786</td>\n",
       "      <td>6.385761e+04</td>\n",
       "      <td>5.907468e+04</td>\n",
       "    </tr>\n",
       "    <tr>\n",
       "      <th>2010-08-01</th>\n",
       "      <td>100mg capsules</td>\n",
       "      <td>1025953</td>\n",
       "      <td>1179842.36</td>\n",
       "      <td>0.035476</td>\n",
       "      <td>36396.904048</td>\n",
       "      <td>1.143445e+06</td>\n",
       "      <td>1.057801e+06</td>\n",
       "    </tr>\n",
       "    <tr>\n",
       "      <th>2010-08-01</th>\n",
       "      <td>75mg capsules</td>\n",
       "      <td>2401845</td>\n",
       "      <td>2762113.50</td>\n",
       "      <td>0.036250</td>\n",
       "      <td>87066.881250</td>\n",
       "      <td>2.675047e+06</td>\n",
       "      <td>2.474686e+06</td>\n",
       "    </tr>\n",
       "    <tr>\n",
       "      <th>2010-08-01</th>\n",
       "      <td>300mg capsules</td>\n",
       "      <td>840140</td>\n",
       "      <td>966161.00</td>\n",
       "      <td>0.074464</td>\n",
       "      <td>62560.425000</td>\n",
       "      <td>9.036006e+05</td>\n",
       "      <td>8.359209e+05</td>\n",
       "    </tr>\n",
       "  </tbody>\n",
       "</table>\n",
       "</div>"
      ],
      "text/plain": [
       "                  strength  quantity         nic    dt_ppu        dt_nic  \\\n",
       "period                                                                     \n",
       "2010-08-01   50mg capsules   1573754  1809813.44  0.027143  42716.180000   \n",
       "2010-08-01  225mg capsules     58346    67097.90  0.055536   3240.286786   \n",
       "2010-08-01  100mg capsules   1025953  1179842.36  0.035476  36396.904048   \n",
       "2010-08-01   75mg capsules   2401845  2762113.50  0.036250  87066.881250   \n",
       "2010-08-01  300mg capsules    840140   966161.00  0.074464  62560.425000   \n",
       "\n",
       "            nic_difference  act_cost_difference  \n",
       "period                                           \n",
       "2010-08-01    1.767097e+06         1.634742e+06  \n",
       "2010-08-01    6.385761e+04         5.907468e+04  \n",
       "2010-08-01    1.143445e+06         1.057801e+06  \n",
       "2010-08-01    2.675047e+06         2.474686e+06  \n",
       "2010-08-01    9.036006e+05         8.359209e+05  "
      ]
     },
     "execution_count": 11,
     "metadata": {},
     "output_type": "execute_result"
    }
   ],
   "source": [
    "pregabalin_df.head()"
   ]
  },
  {
   "cell_type": "code",
   "execution_count": 12,
   "metadata": {
    "hideCode": false,
    "hidePrompt": false
   },
   "outputs": [
    {
     "data": {
      "text/html": [
       "<div>\n",
       "<style>\n",
       "    .dataframe thead tr:only-child th {\n",
       "        text-align: right;\n",
       "    }\n",
       "\n",
       "    .dataframe thead th {\n",
       "        text-align: left;\n",
       "    }\n",
       "\n",
       "    .dataframe tbody tr th {\n",
       "        vertical-align: top;\n",
       "    }\n",
       "</style>\n",
       "<table border=\"1\" class=\"dataframe\">\n",
       "  <thead>\n",
       "    <tr style=\"text-align: right;\">\n",
       "      <th></th>\n",
       "      <th>NIC</th>\n",
       "      <th>Estimated NIC at August 2017 Drug Tariff</th>\n",
       "      <th>Difference in NIC</th>\n",
       "      <th>Difference in Actual Cost</th>\n",
       "    </tr>\n",
       "    <tr>\n",
       "      <th>strength</th>\n",
       "      <th></th>\n",
       "      <th></th>\n",
       "      <th></th>\n",
       "      <th></th>\n",
       "    </tr>\n",
       "  </thead>\n",
       "  <tbody>\n",
       "    <tr>\n",
       "      <th>100mg capsules</th>\n",
       "      <td>£65,935,836</td>\n",
       "      <td>£2,104,684</td>\n",
       "      <td>£63,831,151</td>\n",
       "      <td>£59,050,198</td>\n",
       "    </tr>\n",
       "    <tr>\n",
       "      <th>150mg capsules</th>\n",
       "      <td>£110,670,782</td>\n",
       "      <td>£4,070,097</td>\n",
       "      <td>£106,600,685</td>\n",
       "      <td>£98,616,294</td>\n",
       "    </tr>\n",
       "    <tr>\n",
       "      <th>200mg capsules</th>\n",
       "      <td>£34,042,634</td>\n",
       "      <td>£1,318,460</td>\n",
       "      <td>£32,724,174</td>\n",
       "      <td>£30,273,133</td>\n",
       "    </tr>\n",
       "    <tr>\n",
       "      <th>225mg capsules</th>\n",
       "      <td>£12,959,623</td>\n",
       "      <td>£653,483</td>\n",
       "      <td>£12,306,141</td>\n",
       "      <td>£11,384,411</td>\n",
       "    </tr>\n",
       "    <tr>\n",
       "      <th>25mg capsules</th>\n",
       "      <td>£54,732,394</td>\n",
       "      <td>£1,651,112</td>\n",
       "      <td>£53,081,282</td>\n",
       "      <td>£49,105,494</td>\n",
       "    </tr>\n",
       "    <tr>\n",
       "      <th>300mg capsules</th>\n",
       "      <td>£89,364,123</td>\n",
       "      <td>£6,008,264</td>\n",
       "      <td>£83,355,859</td>\n",
       "      <td>£77,112,505</td>\n",
       "    </tr>\n",
       "    <tr>\n",
       "      <th>50mg capsules</th>\n",
       "      <td>£78,998,270</td>\n",
       "      <td>£1,930,269</td>\n",
       "      <td>£77,068,001</td>\n",
       "      <td>£71,295,608</td>\n",
       "    </tr>\n",
       "    <tr>\n",
       "      <th>75mg capsules</th>\n",
       "      <td>£120,226,538</td>\n",
       "      <td>£3,917,799</td>\n",
       "      <td>£116,308,739</td>\n",
       "      <td>£107,597,214</td>\n",
       "    </tr>\n",
       "    <tr>\n",
       "      <th>Total</th>\n",
       "      <td>£566,930,199</td>\n",
       "      <td>£21,654,167</td>\n",
       "      <td>£545,276,032</td>\n",
       "      <td>£504,434,857</td>\n",
       "    </tr>\n",
       "    <tr>\n",
       "      <th>Total at 99.5%</th>\n",
       "      <td>£564,095,548</td>\n",
       "      <td>£21,545,896</td>\n",
       "      <td>£542,549,652</td>\n",
       "      <td>£501,912,683</td>\n",
       "    </tr>\n",
       "  </tbody>\n",
       "</table>\n",
       "</div>"
      ],
      "text/plain": [
       "                         NIC Estimated NIC at August 2017 Drug Tariff  \\\n",
       "strength                                                                \n",
       "100mg capsules   £65,935,836                               £2,104,684   \n",
       "150mg capsules  £110,670,782                               £4,070,097   \n",
       "200mg capsules   £34,042,634                               £1,318,460   \n",
       "225mg capsules   £12,959,623                                 £653,483   \n",
       "25mg capsules    £54,732,394                               £1,651,112   \n",
       "300mg capsules   £89,364,123                               £6,008,264   \n",
       "50mg capsules    £78,998,270                               £1,930,269   \n",
       "75mg capsules   £120,226,538                               £3,917,799   \n",
       "Total           £566,930,199                              £21,654,167   \n",
       "Total at 99.5%  £564,095,548                              £21,545,896   \n",
       "\n",
       "               Difference in NIC Difference in Actual Cost  \n",
       "strength                                                    \n",
       "100mg capsules       £63,831,151               £59,050,198  \n",
       "150mg capsules      £106,600,685               £98,616,294  \n",
       "200mg capsules       £32,724,174               £30,273,133  \n",
       "225mg capsules       £12,306,141               £11,384,411  \n",
       "25mg capsules        £53,081,282               £49,105,494  \n",
       "300mg capsules       £83,355,859               £77,112,505  \n",
       "50mg capsules        £77,068,001               £71,295,608  \n",
       "75mg capsules       £116,308,739              £107,597,214  \n",
       "Total               £545,276,032              £504,434,857  \n",
       "Total at 99.5%      £542,549,652              £501,912,683  "
      ]
     },
     "execution_count": 12,
     "metadata": {},
     "output_type": "execute_result"
    }
   ],
   "source": [
    "#create new dataframe by filtering dates\n",
    "sep15_df=pregabalin_df.loc['2015-10-01':'2017-07-01']\n",
    "sep15_df.is_copy = None\n",
    "#groupby each capsule strength\n",
    "sep15_gp_df=sep15_df.groupby(['strength'])['nic','dt_nic','nic_difference','act_cost_difference'].sum()\n",
    "#create totals for 100% and 99.5%\n",
    "sep15_gp_df.loc['Total']=sep15_gp_df.sum(axis=0)\n",
    "sep15_gp_df.loc['Total at 99.5%']=.995*sep15_gp_df.loc['Total']\n",
    "#format numbers as currency\n",
    "sep15_gp_df['nic'] = sep15_gp_df['nic'].map('£{:,.0f}'.format) \n",
    "sep15_gp_df['dt_nic'] = sep15_gp_df['dt_nic'].map('£{:,.0f}'.format)\n",
    "sep15_gp_df['nic_difference'] = sep15_gp_df['nic_difference'].map('£{:,.0f}'.format)\n",
    "sep15_gp_df['act_cost_difference'] = sep15_gp_df['act_cost_difference'].map('£{:,.0f}'.format) \n",
    "#tidy up column names for print\n",
    "sep15_gp_df.rename(columns={'nic':'NIC', 'dt_nic':'Estimated NIC at August 2017 Drug Tariff', 'nic_difference':'Difference in NIC', 'act_cost_difference':'Difference in Actual Cost'})"
   ]
  },
  {
   "cell_type": "markdown",
   "metadata": {
    "hideCode": false,
    "hidePrompt": false
   },
   "source": [
    "### Estimated impact from August 2014 - July 2017"
   ]
  },
  {
   "cell_type": "code",
   "execution_count": 13,
   "metadata": {
    "hideCode": false,
    "hidePrompt": false
   },
   "outputs": [
    {
     "data": {
      "text/html": [
       "<div>\n",
       "<style>\n",
       "    .dataframe thead tr:only-child th {\n",
       "        text-align: right;\n",
       "    }\n",
       "\n",
       "    .dataframe thead th {\n",
       "        text-align: left;\n",
       "    }\n",
       "\n",
       "    .dataframe tbody tr th {\n",
       "        vertical-align: top;\n",
       "    }\n",
       "</style>\n",
       "<table border=\"1\" class=\"dataframe\">\n",
       "  <thead>\n",
       "    <tr style=\"text-align: right;\">\n",
       "      <th></th>\n",
       "      <th>NIC</th>\n",
       "      <th>Estimated NIC at August 2017 Drug Tariff</th>\n",
       "      <th>Difference in NIC</th>\n",
       "      <th>Difference in Actual Cost</th>\n",
       "    </tr>\n",
       "    <tr>\n",
       "      <th>strength</th>\n",
       "      <th></th>\n",
       "      <th></th>\n",
       "      <th></th>\n",
       "      <th></th>\n",
       "    </tr>\n",
       "  </thead>\n",
       "  <tbody>\n",
       "    <tr>\n",
       "      <th>100mg capsules</th>\n",
       "      <td>£103,679,552</td>\n",
       "      <td>£3,269,294</td>\n",
       "      <td>£100,410,259</td>\n",
       "      <td>£92,889,530</td>\n",
       "    </tr>\n",
       "    <tr>\n",
       "      <th>150mg capsules</th>\n",
       "      <td>£177,238,107</td>\n",
       "      <td>£6,437,641</td>\n",
       "      <td>£170,800,466</td>\n",
       "      <td>£158,007,511</td>\n",
       "    </tr>\n",
       "    <tr>\n",
       "      <th>200mg capsules</th>\n",
       "      <td>£53,187,524</td>\n",
       "      <td>£2,032,095</td>\n",
       "      <td>£51,155,429</td>\n",
       "      <td>£47,323,887</td>\n",
       "    </tr>\n",
       "    <tr>\n",
       "      <th>225mg capsules</th>\n",
       "      <td>£19,854,412</td>\n",
       "      <td>£986,525</td>\n",
       "      <td>£18,867,887</td>\n",
       "      <td>£17,454,682</td>\n",
       "    </tr>\n",
       "    <tr>\n",
       "      <th>25mg capsules</th>\n",
       "      <td>£86,563,013</td>\n",
       "      <td>£2,575,600</td>\n",
       "      <td>£83,987,413</td>\n",
       "      <td>£77,696,755</td>\n",
       "    </tr>\n",
       "    <tr>\n",
       "      <th>300mg capsules</th>\n",
       "      <td>£138,916,243</td>\n",
       "      <td>£9,217,547</td>\n",
       "      <td>£129,698,696</td>\n",
       "      <td>£119,984,264</td>\n",
       "    </tr>\n",
       "    <tr>\n",
       "      <th>50mg capsules</th>\n",
       "      <td>£126,258,073</td>\n",
       "      <td>£3,045,962</td>\n",
       "      <td>£123,212,111</td>\n",
       "      <td>£113,983,523</td>\n",
       "    </tr>\n",
       "    <tr>\n",
       "      <th>75mg capsules</th>\n",
       "      <td>£195,052,421</td>\n",
       "      <td>£6,276,857</td>\n",
       "      <td>£188,775,564</td>\n",
       "      <td>£174,636,274</td>\n",
       "    </tr>\n",
       "    <tr>\n",
       "      <th>Total</th>\n",
       "      <td>£900,749,345</td>\n",
       "      <td>£33,841,521</td>\n",
       "      <td>£866,907,823</td>\n",
       "      <td>£801,976,427</td>\n",
       "    </tr>\n",
       "    <tr>\n",
       "      <th>Total at 99.5%</th>\n",
       "      <td>£896,245,598</td>\n",
       "      <td>£33,672,314</td>\n",
       "      <td>£862,573,284</td>\n",
       "      <td>£797,966,545</td>\n",
       "    </tr>\n",
       "  </tbody>\n",
       "</table>\n",
       "</div>"
      ],
      "text/plain": [
       "                         NIC Estimated NIC at August 2017 Drug Tariff  \\\n",
       "strength                                                                \n",
       "100mg capsules  £103,679,552                               £3,269,294   \n",
       "150mg capsules  £177,238,107                               £6,437,641   \n",
       "200mg capsules   £53,187,524                               £2,032,095   \n",
       "225mg capsules   £19,854,412                                 £986,525   \n",
       "25mg capsules    £86,563,013                               £2,575,600   \n",
       "300mg capsules  £138,916,243                               £9,217,547   \n",
       "50mg capsules   £126,258,073                               £3,045,962   \n",
       "75mg capsules   £195,052,421                               £6,276,857   \n",
       "Total           £900,749,345                              £33,841,521   \n",
       "Total at 99.5%  £896,245,598                              £33,672,314   \n",
       "\n",
       "               Difference in NIC Difference in Actual Cost  \n",
       "strength                                                    \n",
       "100mg capsules      £100,410,259               £92,889,530  \n",
       "150mg capsules      £170,800,466              £158,007,511  \n",
       "200mg capsules       £51,155,429               £47,323,887  \n",
       "225mg capsules       £18,867,887               £17,454,682  \n",
       "25mg capsules        £83,987,413               £77,696,755  \n",
       "300mg capsules      £129,698,696              £119,984,264  \n",
       "50mg capsules       £123,212,111              £113,983,523  \n",
       "75mg capsules       £188,775,564              £174,636,274  \n",
       "Total               £866,907,823              £801,976,427  \n",
       "Total at 99.5%      £862,573,284              £797,966,545  "
      ]
     },
     "execution_count": 13,
     "metadata": {},
     "output_type": "execute_result"
    }
   ],
   "source": [
    "#create new dataframe by filtering dates\n",
    "aug14_df=pregabalin_df.loc['2014-07-01':'2017-07-01']\n",
    "aug14_df.is_copy = None\n",
    "#groupby each capsule strength\n",
    "aug14_gp_df=aug14_df.groupby(['strength'])['nic','dt_nic','nic_difference','act_cost_difference'].sum()\n",
    "#create totals for 100% and 99.5%\n",
    "aug14_gp_df.loc['Total']=aug14_gp_df.sum(axis=0)\n",
    "aug14_gp_df.loc['Total at 99.5%']=.995*aug14_gp_df.loc['Total']\n",
    "#format numbers as currency\n",
    "aug14_gp_df['nic'] = aug14_gp_df['nic'].map('£{:,.0f}'.format) \n",
    "aug14_gp_df['dt_nic'] = aug14_gp_df['dt_nic'].map('£{:,.0f}'.format)\n",
    "aug14_gp_df['nic_difference'] = aug14_gp_df['nic_difference'].map('£{:,.0f}'.format)\n",
    "aug14_gp_df['act_cost_difference'] = aug14_gp_df['act_cost_difference'].map('£{:,.0f}'.format) \n",
    "aug14_gp_df.rename(columns={'nic':'NIC', 'dt_nic':'Estimated NIC at August 2017 Drug Tariff', 'nic_difference':'Difference in NIC', 'act_cost_difference':'Difference in Actual Cost'})"
   ]
  },
  {
   "cell_type": "code",
   "execution_count": 14,
   "metadata": {
    "hideCode": false,
    "hidePrompt": false
   },
   "outputs": [],
   "source": [
    "pre_practice_df= practice_df\n",
    "pre_practice_df = pre_practice_df[pre_practice_df[\"period\"].isin(pd.date_range(\"2014-09-01\", \"2015-02-01\"))]\n",
    "pre_practice_df=pre_practice_df.groupby(['practice']).sum()\n",
    "pre_practice_df.reset_index(inplace=True)"
   ]
  },
  {
   "cell_type": "code",
   "execution_count": 15,
   "metadata": {
    "hideCode": false,
    "hidePrompt": false
   },
   "outputs": [
    {
     "name": "stdout",
     "output_type": "stream",
     "text": [
      "Total number of practices:                   7826\n",
      "Number of practices prescribing pregabalin:  7826\n",
      "Number of practices prescribing lyrica:      898\n",
      "Prescribing of all pregabalin in lyrica practices:  313931\n",
      "Prescribing of pregabalin as Lyrica in lyrica practices:  6944\n",
      "Percentage of pregabalin as Lyrica in lyrica practices:  0.0221195103383\n"
     ]
    }
   ],
   "source": [
    "# construct a mask of all rainy days\n",
    "lyrica = (pre_practice_df.lyrica_items > 0)\n",
    "print(\"Total number of practices:                  \", np.size(pre_practice_df,0))\n",
    "print(\"Number of practices prescribing pregabalin: \", np.count_nonzero(pre_practice_df.all_items,0))\n",
    "print(\"Number of practices prescribing lyrica:     \", np.count_nonzero(pre_practice_df.lyrica_items,0))\n",
    "print(\"Prescribing of all pregabalin in lyrica practices: \",\n",
    "      np.sum(pre_practice_df.all_items[lyrica]))\n",
    "print(\"Prescribing of pregabalin as Lyrica in lyrica practices: \",\n",
    "      np.sum(pre_practice_df.lyrica_items[lyrica]))\n",
    "print(\"Percentage of pregabalin as Lyrica in lyrica practices: \",\n",
    "      (np.sum(pre_practice_df.lyrica_items[lyrica]))/np.sum(pre_practice_df.all_items[lyrica]))\n"
   ]
  },
  {
   "cell_type": "code",
   "execution_count": 16,
   "metadata": {
    "collapsed": true,
    "hideCode": false,
    "hidePrompt": false
   },
   "outputs": [],
   "source": [
    "post_practice_df= practice_df\n",
    "post_practice_df = post_practice_df[post_practice_df[\"period\"].isin(pd.date_range(\"2015-04-01\", \"2015-09-01\"))]\n",
    "post_practice_df=post_practice_df.groupby(['practice']).sum()\n",
    "post_practice_df.reset_index(inplace=True)"
   ]
  },
  {
   "cell_type": "code",
   "execution_count": 17,
   "metadata": {
    "hideCode": false,
    "hidePrompt": false
   },
   "outputs": [],
   "source": [
    "# construct a mask of all lyrica practices\n",
    "lyricapre = (pre_practice_df.lyrica_items > 0)\n",
    "lyricapost = (post_practice_df.lyrica_items > 0)\n",
    "post_table_df=pd.DataFrame(\n",
    "    [['Total number of practices',np.size(pre_practice_df,0),np.size(post_practice_df,0)],\n",
    "     ['Number of practices prescribing pregabalin',np.count_nonzero(pre_practice_df.all_items,0),np.count_nonzero(post_practice_df.all_items,0)],\n",
    "     ['Number of practices prescribing lyrica',np.count_nonzero(pre_practice_df.lyrica_items,0),np.count_nonzero(post_practice_df.lyrica_items,0)],\n",
    "     ['Prescribing of pregabalin as Lyrica in lyrica practices',np.sum(pre_practice_df.lyrica_items[lyricapre]),np.sum(post_practice_df.lyrica_items[lyricapost])]])\n",
    "    "
   ]
  },
  {
   "cell_type": "code",
   "execution_count": 18,
   "metadata": {
    "hideCode": false,
    "hidePrompt": false
   },
   "outputs": [
    {
     "data": {
      "text/html": [
       "<table border=\"1\" class=\"dataframe\">\n",
       "  <tbody>\n",
       "    <tr>\n",
       "      <th>0</th>\n",
       "      <td>Total number of practices</td>\n",
       "      <td>7826</td>\n",
       "      <td>7736</td>\n",
       "    </tr>\n",
       "    <tr>\n",
       "      <th>1</th>\n",
       "      <td>Number of practices prescribing pregabalin</td>\n",
       "      <td>7826</td>\n",
       "      <td>7736</td>\n",
       "    </tr>\n",
       "    <tr>\n",
       "      <th>2</th>\n",
       "      <td>Number of practices prescribing lyrica</td>\n",
       "      <td>898</td>\n",
       "      <td>6367</td>\n",
       "    </tr>\n",
       "    <tr>\n",
       "      <th>3</th>\n",
       "      <td>Prescribing of pregabalin as Lyrica in lyrica practices</td>\n",
       "      <td>6944</td>\n",
       "      <td>604450</td>\n",
       "    </tr>\n",
       "  </tbody>\n",
       "</table>"
      ],
      "text/plain": [
       "<IPython.core.display.HTML object>"
      ]
     },
     "metadata": {},
     "output_type": "display_data"
    }
   ],
   "source": [
    "from IPython.display import display, HTML\n",
    "pd.set_option('display.max_colwidth', -1)\n",
    "display(HTML(post_table_df.to_html(header=False,formatters={'wider': '{:,.5f}'.format})))"
   ]
  }
 ],
 "metadata": {
  "hide_code_all_hidden": false,
  "kernelspec": {
   "display_name": "Python [conda root]",
   "language": "python",
   "name": "conda-root-py"
  },
  "language_info": {
   "codemirror_mode": {
    "name": "ipython",
    "version": 2
   },
   "file_extension": ".py",
   "mimetype": "text/x-python",
   "name": "python",
   "nbconvert_exporter": "python",
   "pygments_lexer": "ipython2",
   "version": "2.7.12"
  }
 },
 "nbformat": 4,
 "nbformat_minor": 2
}
