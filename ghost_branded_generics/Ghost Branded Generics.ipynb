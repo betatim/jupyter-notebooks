{
 "cells": [
  {
   "cell_type": "code",
   "execution_count": 1,
   "metadata": {},
   "outputs": [],
   "source": [
    "import pandas as pd"
   ]
  },
  {
   "cell_type": "code",
   "execution_count": 2,
   "metadata": {
    "lines_to_next_cell": 2
   },
   "outputs": [],
   "source": [
    "import os\n",
    "if os.path.exists(\"ghost_generics.csv.gz\"):\n",
    "    ghost_df = pd.read_csv(\"ghost_generics.csv.gz\", compression='gzip')\n",
    "else:\n",
    "    ghost_df = pd.read_gbq(\"\"\"\n",
    "SELECT\n",
    "  prac.ccg_id,\n",
    "  rx.practice_code,\n",
    "  rx.bnf_code,\n",
    "  rx.bnf_description,\n",
    "  rx.items,\n",
    "  rx.quantity,\n",
    "  rx.nic,\n",
    "  dt.concession,\n",
    "  dt.quantity AS dt_quantity,\n",
    "  dt.price_pence,\n",
    "  SUM(rx.items*rx.quantity) AS QI,\n",
    "  ROUND(IEEE_DIVIDE(rx.NIC, (rx.items*rx.quantity)),4) AS rx_ppu,\n",
    "  ROUND(IEEE_DIVIDE((dt.price_pence/100), dt.quantity),4) AS dt_ppu,\n",
    "  CASE\n",
    "    WHEN dt.concession IS NOT NULL THEN ROUND(IEEE_DIVIDE((dt.concession/100), dt.quantity), 4)\n",
    "    ELSE NULL\n",
    "  END AS concession_ppu\n",
    "FROM\n",
    "  richard.prescribing_2018_09_full AS rx\n",
    "JOIN\n",
    "  dmd.dt_viewer AS dt\n",
    "ON\n",
    "  rx.bnf_code=dt.bnf_code\n",
    "JOIN\n",
    "  hscic.practices AS prac\n",
    "ON\n",
    "  rx.practice_code=prac.code\n",
    "WHERE\n",
    "  (rx.bnf_description LIKE '%_Tab%'\n",
    "    OR rx.bnf_description LIKE '%_Cap%')\n",
    "  AND dt.date='2018-09-01'\n",
    "  AND rx.bnf_code NOT LIKE '0410020C0%AC'\n",
    "GROUP BY\n",
    "  prac.ccg_id,\n",
    "  rx.practice_code,\n",
    "  rx.bnf_code,\n",
    "  rx.bnf_description,\n",
    "  rx.quantity,\n",
    "  rx.items,\n",
    "  rx_ppu,\n",
    "  dt_ppu,\n",
    "  dt.concession,\n",
    "  dt.quantity,\n",
    "  dt.price_pence,\n",
    "  rx.NIC\n",
    "HAVING\n",
    "  rx_ppu <> dt_ppu\n",
    "\"\"\", 'ebmdatalab', dialect='standard', verbose=False)\n",
    "    ghost_df.to_csv(\"ghost_generics.csv\")"
   ]
  },
  {
   "cell_type": "code",
   "execution_count": 4,
   "metadata": {},
   "outputs": [
    {
     "data": {
      "text/html": [
       "<div>\n",
       "<style scoped>\n",
       "    .dataframe tbody tr th:only-of-type {\n",
       "        vertical-align: middle;\n",
       "    }\n",
       "\n",
       "    .dataframe tbody tr th {\n",
       "        vertical-align: top;\n",
       "    }\n",
       "\n",
       "    .dataframe thead th {\n",
       "        text-align: right;\n",
       "    }\n",
       "</style>\n",
       "<table border=\"1\" class=\"dataframe\">\n",
       "  <thead>\n",
       "    <tr style=\"text-align: right;\">\n",
       "      <th></th>\n",
       "      <th>ccg_id</th>\n",
       "      <th>practice_code</th>\n",
       "      <th>bnf_code</th>\n",
       "      <th>bnf_description</th>\n",
       "      <th>items</th>\n",
       "      <th>quantity</th>\n",
       "      <th>nic</th>\n",
       "      <th>concession</th>\n",
       "      <th>dt_quantity</th>\n",
       "      <th>price_pence</th>\n",
       "      <th>QI</th>\n",
       "      <th>rx_ppu</th>\n",
       "      <th>dt_ppu</th>\n",
       "      <th>concession_ppu</th>\n",
       "    </tr>\n",
       "  </thead>\n",
       "  <tbody>\n",
       "    <tr>\n",
       "      <th>0</th>\n",
       "      <td>99N</td>\n",
       "      <td>J83007</td>\n",
       "      <td>0405010P0AAAAAA</td>\n",
       "      <td>Orlistat_Cap 120mg</td>\n",
       "      <td>1</td>\n",
       "      <td>84</td>\n",
       "      <td>23.95</td>\n",
       "      <td>2395.0</td>\n",
       "      <td>84</td>\n",
       "      <td>1666</td>\n",
       "      <td>84</td>\n",
       "      <td>0.2851</td>\n",
       "      <td>0.1983</td>\n",
       "      <td>0.2851</td>\n",
       "    </tr>\n",
       "  </tbody>\n",
       "</table>\n",
       "</div>"
      ],
      "text/plain": [
       "  ccg_id practice_code         bnf_code     bnf_description  items  quantity  \\\n",
       "0    99N        J83007  0405010P0AAAAAA  Orlistat_Cap 120mg      1        84   \n",
       "\n",
       "     nic  concession  dt_quantity  price_pence  QI  rx_ppu  dt_ppu  \\\n",
       "0  23.95      2395.0           84         1666  84  0.2851  0.1983   \n",
       "\n",
       "   concession_ppu  \n",
       "0          0.2851  "
      ]
     },
     "execution_count": 4,
     "metadata": {},
     "output_type": "execute_result"
    }
   ],
   "source": [
    "ghost_df.head(1)"
   ]
  },
  {
   "cell_type": "code",
   "execution_count": 5,
   "metadata": {},
   "outputs": [],
   "source": [
    "ghost_df['dt_or_concession_ppu'] = ghost_df['concession_ppu'].combine_first(ghost_df['dt_ppu'])"
   ]
  },
  {
   "cell_type": "code",
   "execution_count": 6,
   "metadata": {},
   "outputs": [
    {
     "name": "stdout",
     "output_type": "stream",
     "text": [
      "There are 16781297 items prescribed for 1470 presentations. 9.0% are cheaper than DT, 29.0% more expensive, the rest the same\n"
     ]
    }
   ],
   "source": [
    "total_items = ghost_df['items'].sum()\n",
    "total_presentations = len(ghost_df['bnf_code'].unique())\n",
    "cheaper = ghost_df[ghost_df['rx_ppu'].round(3) < ghost_df['dt_or_concession_ppu'].round(3)]['items'].sum()\n",
    "costlier = ghost_df[ghost_df['rx_ppu'].round(3) > ghost_df['dt_or_concession_ppu'].round(3)]['items'].sum()\n",
    "same = total_items - (cheaper + costlier)\n",
    "print(\"There are {} items prescribed for {} presentations. \"\n",
    "      \"{}% are cheaper than DT, {}% more expensive, the rest the same\".format(\n",
    "          total_items,\n",
    "          total_presentations,\n",
    "          round(cheaper/total_items * 100),\n",
    "          round(costlier/total_items * 100)\n",
    "      ))"
   ]
  },
  {
   "cell_type": "code",
   "execution_count": 204,
   "metadata": {},
   "outputs": [],
   "source": [
    "ghost_df['excess_ppu'] = ghost_df['rx_ppu'] - ghost_df['dt_or_concession_ppu']\n",
    "ghost_df['excess_ppu_no_concession'] = ghost_df['rx_ppu'] - ghost_df['dt_ppu']\n",
    "ghost_df['excess_cost_dt_no_concession'] = (ghost_df['excess_ppu_no_concession']) * ghost_df['QI']\n",
    "ghost_df['excess_cost_dt'] = (ghost_df['excess_ppu']) * ghost_df['QI']\n",
    "ghost_df = ghost_df.sort_values('excess_cost_dt', ascending=False)"
   ]
  },
  {
   "cell_type": "markdown",
   "metadata": {},
   "source": [
    "# Summary numbers"
   ]
  },
  {
   "cell_type": "code",
   "execution_count": 211,
   "metadata": {},
   "outputs": [
    {
     "name": "stdout",
     "output_type": "stream",
     "text": [
      "Total possible savings in Sept 2018: £966855.0\n",
      "...excluding price concessions: £9090242.0\n"
     ]
    }
   ],
   "source": [
    "total_savings = round(ghost_df['excess_cost_dt'].sum())\n",
    "total_savings_no_concession = round(ghost_df['excess_cost_dt_no_concession'].sum())\n",
    "print(\"Total possible savings in Sept 2018: £{}\".format(total_savings))\n",
    "print(\"...excluding price concessions: £{}\".format(total_savings_no_concession))\n"
   ]
  },
  {
   "cell_type": "markdown",
   "metadata": {},
   "source": [
    "# Top savings"
   ]
  },
  {
   "cell_type": "code",
   "execution_count": 212,
   "metadata": {},
   "outputs": [],
   "source": [
    "by_presentation = ghost_df.groupby('bnf_description')[['excess_cost_dt', 'excess_ppu']].sum().reset_index()"
   ]
  },
  {
   "cell_type": "markdown",
   "metadata": {},
   "source": [
    "## 1. By total cost"
   ]
  },
  {
   "cell_type": "code",
   "execution_count": 213,
   "metadata": {},
   "outputs": [
    {
     "data": {
      "text/html": [
       "<div>\n",
       "<style scoped>\n",
       "    .dataframe tbody tr th:only-of-type {\n",
       "        vertical-align: middle;\n",
       "    }\n",
       "\n",
       "    .dataframe tbody tr th {\n",
       "        vertical-align: top;\n",
       "    }\n",
       "\n",
       "    .dataframe thead th {\n",
       "        text-align: right;\n",
       "    }\n",
       "</style>\n",
       "<table border=\"1\" class=\"dataframe\">\n",
       "  <thead>\n",
       "    <tr style=\"text-align: right;\">\n",
       "      <th></th>\n",
       "      <th>bnf_description</th>\n",
       "      <th>excess_cost_dt</th>\n",
       "      <th>excess_ppu</th>\n",
       "    </tr>\n",
       "  </thead>\n",
       "  <tbody>\n",
       "    <tr>\n",
       "      <th>1018</th>\n",
       "      <td>Paracet_Tab 500mg</td>\n",
       "      <td>86409.9460</td>\n",
       "      <td>45.6534</td>\n",
       "    </tr>\n",
       "    <tr>\n",
       "      <th>96</th>\n",
       "      <td>Atorvastatin_Tab 20mg</td>\n",
       "      <td>77029.7397</td>\n",
       "      <td>49.5081</td>\n",
       "    </tr>\n",
       "    <tr>\n",
       "      <th>787</th>\n",
       "      <td>Memantine HCl_Tab 20mg</td>\n",
       "      <td>34547.0530</td>\n",
       "      <td>290.8333</td>\n",
       "    </tr>\n",
       "    <tr>\n",
       "      <th>249</th>\n",
       "      <td>Clonazepam_Tab 500mcg</td>\n",
       "      <td>32032.4509</td>\n",
       "      <td>300.4548</td>\n",
       "    </tr>\n",
       "    <tr>\n",
       "      <th>98</th>\n",
       "      <td>Atorvastatin_Tab 40mg</td>\n",
       "      <td>24258.7795</td>\n",
       "      <td>22.7058</td>\n",
       "    </tr>\n",
       "  </tbody>\n",
       "</table>\n",
       "</div>"
      ],
      "text/plain": [
       "             bnf_description  excess_cost_dt  excess_ppu\n",
       "1018       Paracet_Tab 500mg      86409.9460     45.6534\n",
       "96     Atorvastatin_Tab 20mg      77029.7397     49.5081\n",
       "787   Memantine HCl_Tab 20mg      34547.0530    290.8333\n",
       "249    Clonazepam_Tab 500mcg      32032.4509    300.4548\n",
       "98     Atorvastatin_Tab 40mg      24258.7795     22.7058"
      ]
     },
     "execution_count": 213,
     "metadata": {},
     "output_type": "execute_result"
    }
   ],
   "source": [
    "by_presentation.sort_values('excess_cost_dt',ascending=False).head()"
   ]
  },
  {
   "cell_type": "markdown",
   "metadata": {},
   "source": [
    "## 2. By per-unit price"
   ]
  },
  {
   "cell_type": "code",
   "execution_count": 214,
   "metadata": {},
   "outputs": [
    {
     "data": {
      "text/html": [
       "<div>\n",
       "<style scoped>\n",
       "    .dataframe tbody tr th:only-of-type {\n",
       "        vertical-align: middle;\n",
       "    }\n",
       "\n",
       "    .dataframe tbody tr th {\n",
       "        vertical-align: top;\n",
       "    }\n",
       "\n",
       "    .dataframe thead th {\n",
       "        text-align: right;\n",
       "    }\n",
       "</style>\n",
       "<table border=\"1\" class=\"dataframe\">\n",
       "  <thead>\n",
       "    <tr style=\"text-align: right;\">\n",
       "      <th></th>\n",
       "      <th>bnf_description</th>\n",
       "      <th>excess_cost_dt</th>\n",
       "      <th>excess_ppu</th>\n",
       "    </tr>\n",
       "  </thead>\n",
       "  <tbody>\n",
       "    <tr>\n",
       "      <th>1200</th>\n",
       "      <td>Risperidone_Tab 6mg</td>\n",
       "      <td>20746.9142</td>\n",
       "      <td>566.3781</td>\n",
       "    </tr>\n",
       "    <tr>\n",
       "      <th>621</th>\n",
       "      <td>Ibandronic Acid_Tab 150mg</td>\n",
       "      <td>830.9200</td>\n",
       "      <td>315.5332</td>\n",
       "    </tr>\n",
       "    <tr>\n",
       "      <th>249</th>\n",
       "      <td>Clonazepam_Tab 500mcg</td>\n",
       "      <td>32032.4509</td>\n",
       "      <td>300.4548</td>\n",
       "    </tr>\n",
       "    <tr>\n",
       "      <th>787</th>\n",
       "      <td>Memantine HCl_Tab 20mg</td>\n",
       "      <td>34547.0530</td>\n",
       "      <td>290.8333</td>\n",
       "    </tr>\n",
       "    <tr>\n",
       "      <th>1188</th>\n",
       "      <td>Risedronate Sod_Tab 35mg</td>\n",
       "      <td>2328.0476</td>\n",
       "      <td>227.0769</td>\n",
       "    </tr>\n",
       "  </tbody>\n",
       "</table>\n",
       "</div>"
      ],
      "text/plain": [
       "                bnf_description  excess_cost_dt  excess_ppu\n",
       "1200        Risperidone_Tab 6mg      20746.9142    566.3781\n",
       "621   Ibandronic Acid_Tab 150mg        830.9200    315.5332\n",
       "249       Clonazepam_Tab 500mcg      32032.4509    300.4548\n",
       "787      Memantine HCl_Tab 20mg      34547.0530    290.8333\n",
       "1188   Risedronate Sod_Tab 35mg       2328.0476    227.0769"
      ]
     },
     "execution_count": 214,
     "metadata": {},
     "output_type": "execute_result"
    }
   ],
   "source": [
    "by_presentation.sort_values('excess_ppu',ascending=False).head()"
   ]
  },
  {
   "cell_type": "markdown",
   "metadata": {},
   "source": [
    "# Top costs per CCG"
   ]
  },
  {
   "cell_type": "code",
   "execution_count": 12,
   "metadata": {},
   "outputs": [],
   "source": [
    "gpd_ghost_df = ghost_df.groupby('ccg_id')['excess_cost_dt'].sum().reset_index().sort_values('excess_cost_dt',ascending=False)"
   ]
  },
  {
   "cell_type": "code",
   "execution_count": 21,
   "metadata": {},
   "outputs": [
    {
     "data": {
      "text/html": [
       "<div>\n",
       "<style scoped>\n",
       "    .dataframe tbody tr th:only-of-type {\n",
       "        vertical-align: middle;\n",
       "    }\n",
       "\n",
       "    .dataframe tbody tr th {\n",
       "        vertical-align: top;\n",
       "    }\n",
       "\n",
       "    .dataframe thead th {\n",
       "        text-align: right;\n",
       "    }\n",
       "</style>\n",
       "<table border=\"1\" class=\"dataframe\">\n",
       "  <thead>\n",
       "    <tr style=\"text-align: right;\">\n",
       "      <th></th>\n",
       "      <th>ccg_id</th>\n",
       "      <th>excess_cost_dt</th>\n",
       "    </tr>\n",
       "  </thead>\n",
       "  <tbody>\n",
       "    <tr>\n",
       "      <th>95</th>\n",
       "      <td>06H</td>\n",
       "      <td>36167.2935</td>\n",
       "    </tr>\n",
       "    <tr>\n",
       "      <th>198</th>\n",
       "      <td>15F</td>\n",
       "      <td>26294.4252</td>\n",
       "    </tr>\n",
       "    <tr>\n",
       "      <th>197</th>\n",
       "      <td>15E</td>\n",
       "      <td>25910.4207</td>\n",
       "    </tr>\n",
       "    <tr>\n",
       "      <th>177</th>\n",
       "      <td>11J</td>\n",
       "      <td>24356.5480</td>\n",
       "    </tr>\n",
       "    <tr>\n",
       "      <th>83</th>\n",
       "      <td>05L</td>\n",
       "      <td>22655.0496</td>\n",
       "    </tr>\n",
       "    <tr>\n",
       "      <th>225</th>\n",
       "      <td>99P</td>\n",
       "      <td>22106.7665</td>\n",
       "    </tr>\n",
       "    <tr>\n",
       "      <th>178</th>\n",
       "      <td>11M</td>\n",
       "      <td>21685.3784</td>\n",
       "    </tr>\n",
       "    <tr>\n",
       "      <th>94</th>\n",
       "      <td>06F</td>\n",
       "      <td>20982.5777</td>\n",
       "    </tr>\n",
       "    <tr>\n",
       "      <th>96</th>\n",
       "      <td>06K</td>\n",
       "      <td>19156.1250</td>\n",
       "    </tr>\n",
       "    <tr>\n",
       "      <th>56</th>\n",
       "      <td>03T</td>\n",
       "      <td>18192.9049</td>\n",
       "    </tr>\n",
       "  </tbody>\n",
       "</table>\n",
       "</div>"
      ],
      "text/plain": [
       "    ccg_id  excess_cost_dt\n",
       "95     06H      36167.2935\n",
       "198    15F      26294.4252\n",
       "197    15E      25910.4207\n",
       "177    11J      24356.5480\n",
       "83     05L      22655.0496\n",
       "225    99P      22106.7665\n",
       "178    11M      21685.3784\n",
       "94     06F      20982.5777\n",
       "96     06K      19156.1250\n",
       "56     03T      18192.9049"
      ]
     },
     "execution_count": 21,
     "metadata": {},
     "output_type": "execute_result"
    }
   ],
   "source": [
    "gpd_ghost_df.head(10)"
   ]
  },
  {
   "cell_type": "markdown",
   "metadata": {},
   "source": [
    "# Top costs per EPR"
   ]
  },
  {
   "cell_type": "code",
   "execution_count": 27,
   "metadata": {},
   "outputs": [
    {
     "data": {
      "text/html": [
       "<div>\n",
       "<style scoped>\n",
       "    .dataframe tbody tr th:only-of-type {\n",
       "        vertical-align: middle;\n",
       "    }\n",
       "\n",
       "    .dataframe tbody tr th {\n",
       "        vertical-align: top;\n",
       "    }\n",
       "\n",
       "    .dataframe thead th {\n",
       "        text-align: right;\n",
       "    }\n",
       "</style>\n",
       "<table border=\"1\" class=\"dataframe\">\n",
       "  <thead>\n",
       "    <tr style=\"text-align: right;\">\n",
       "      <th></th>\n",
       "      <th>ODS</th>\n",
       "      <th>Principal Supplier</th>\n",
       "      <th>Principal System</th>\n",
       "    </tr>\n",
       "  </thead>\n",
       "  <tbody>\n",
       "    <tr>\n",
       "      <th>0</th>\n",
       "      <td>A81023</td>\n",
       "      <td>TPP</td>\n",
       "      <td>SystmOne</td>\n",
       "    </tr>\n",
       "    <tr>\n",
       "      <th>1</th>\n",
       "      <td>A81048</td>\n",
       "      <td>TPP</td>\n",
       "      <td>SystmOne</td>\n",
       "    </tr>\n",
       "    <tr>\n",
       "      <th>2</th>\n",
       "      <td>A82018</td>\n",
       "      <td>EMIS</td>\n",
       "      <td>EMIS Web</td>\n",
       "    </tr>\n",
       "    <tr>\n",
       "      <th>3</th>\n",
       "      <td>A84043</td>\n",
       "      <td>TPP</td>\n",
       "      <td>SystmOne</td>\n",
       "    </tr>\n",
       "    <tr>\n",
       "      <th>4</th>\n",
       "      <td>A86026</td>\n",
       "      <td>TPP</td>\n",
       "      <td>SystmOne</td>\n",
       "    </tr>\n",
       "  </tbody>\n",
       "</table>\n",
       "</div>"
      ],
      "text/plain": [
       "      ODS Principal Supplier Principal System\n",
       "0  A81023                TPP         SystmOne\n",
       "1  A81048                TPP         SystmOne\n",
       "2  A82018               EMIS         EMIS Web\n",
       "3  A84043                TPP         SystmOne\n",
       "4  A86026                TPP         SystmOne"
      ]
     },
     "execution_count": 27,
     "metadata": {},
     "output_type": "execute_result"
    }
   ],
   "source": [
    "epr = pd.read_csv(\"gpsoc_marketshare_201801b.csv.gz\", compression='gzip', usecols=['ODS', 'Principal Supplier', 'Principal System'])\n",
    "epr.head()"
   ]
  },
  {
   "cell_type": "code",
   "execution_count": 52,
   "metadata": {},
   "outputs": [],
   "source": [
    "numbers = ghost_df[['practice_code', 'excess_cost_dt']]\n",
    "by_epr = numbers.merge(epr, how='inner', left_on='practice_code', right_on='ODS')"
   ]
  },
  {
   "cell_type": "code",
   "execution_count": 67,
   "metadata": {},
   "outputs": [
    {
     "name": "stderr",
     "output_type": "stream",
     "text": [
      "/home/seb/.local/share/virtualenvs/jupyter/local/lib/python3.6/site-packages/ipykernel_launcher.py:1: FutureWarning: using a dict on a Series for aggregation\n",
      "is deprecated and will be removed in a future version\n",
      "  \"\"\"Entry point for launching an IPython kernel.\n"
     ]
    },
    {
     "data": {
      "text/html": [
       "<div>\n",
       "<style scoped>\n",
       "    .dataframe tbody tr th:only-of-type {\n",
       "        vertical-align: middle;\n",
       "    }\n",
       "\n",
       "    .dataframe tbody tr th {\n",
       "        vertical-align: top;\n",
       "    }\n",
       "\n",
       "    .dataframe thead th {\n",
       "        text-align: right;\n",
       "    }\n",
       "</style>\n",
       "<table border=\"1\" class=\"dataframe\">\n",
       "  <thead>\n",
       "    <tr style=\"text-align: right;\">\n",
       "      <th></th>\n",
       "      <th>cost</th>\n",
       "      <th>count</th>\n",
       "      <th>cost_per_install</th>\n",
       "    </tr>\n",
       "    <tr>\n",
       "      <th>Principal System</th>\n",
       "      <th></th>\n",
       "      <th></th>\n",
       "      <th></th>\n",
       "    </tr>\n",
       "  </thead>\n",
       "  <tbody>\n",
       "    <tr>\n",
       "      <th>SystmOne</th>\n",
       "      <td>863367.109201</td>\n",
       "      <td>1096983</td>\n",
       "      <td>0.787038</td>\n",
       "    </tr>\n",
       "    <tr>\n",
       "      <th>Evolution</th>\n",
       "      <td>3090.119300</td>\n",
       "      <td>23529</td>\n",
       "      <td>0.131332</td>\n",
       "    </tr>\n",
       "    <tr>\n",
       "      <th>Vision 3 LAN</th>\n",
       "      <td>2183.878600</td>\n",
       "      <td>23373</td>\n",
       "      <td>0.093436</td>\n",
       "    </tr>\n",
       "    <tr>\n",
       "      <th>Vision 3 Hosted</th>\n",
       "      <td>7457.238000</td>\n",
       "      <td>111808</td>\n",
       "      <td>0.066697</td>\n",
       "    </tr>\n",
       "    <tr>\n",
       "      <th>EMIS Web</th>\n",
       "      <td>84118.076500</td>\n",
       "      <td>1576928</td>\n",
       "      <td>0.053343</td>\n",
       "    </tr>\n",
       "  </tbody>\n",
       "</table>\n",
       "</div>"
      ],
      "text/plain": [
       "                           cost    count  cost_per_install\n",
       "Principal System                                          \n",
       "SystmOne          863367.109201  1096983          0.787038\n",
       "Evolution           3090.119300    23529          0.131332\n",
       "Vision 3 LAN        2183.878600    23373          0.093436\n",
       "Vision 3 Hosted     7457.238000   111808          0.066697\n",
       "EMIS Web           84118.076500  1576928          0.053343"
      ]
     },
     "execution_count": 67,
     "metadata": {},
     "output_type": "execute_result"
    }
   ],
   "source": [
    "summary = by_epr.groupby('Principal System')['excess_cost_dt'].agg({'cost': 'sum', 'count': 'count'})\n",
    "summary['cost_per_install'] = summary['cost'] / summary['count']\n",
    "summary = summary.sort_values('cost_per_install', ascending=False)\n",
    "summary"
   ]
  },
  {
   "cell_type": "code",
   "execution_count": 72,
   "metadata": {},
   "outputs": [
    {
     "data": {
      "text/plain": [
       "Text(0, 0.5, 'cost per install (£)')"
      ]
     },
     "execution_count": 72,
     "metadata": {},
     "output_type": "execute_result"
    },
    {
     "data": {
      "image/png": "[encoded data removed]",
      "text/plain": [
       "<Figure size 432x288 with 1 Axes>"
      ]
     },
     "metadata": {
      "needs_background": "light"
     },
     "output_type": "display_data"
    }
   ],
   "source": [
    "%matplotlib inline\n",
    "import matplotlib.pyplot as plt \n",
    "summary['cost_per_install'].plot.bar()\n",
    "plt.ylabel(\"cost per install (£)\")"
   ]
  },
  {
   "cell_type": "markdown",
   "metadata": {},
   "source": [
    "# Create useful files for CCGs"
   ]
  },
  {
   "cell_type": "code",
   "execution_count": 178,
   "metadata": {},
   "outputs": [],
   "source": [
    "summary = gpd_ghost_df.assign(saving_from_top_10 = None).set_index('ccg_id')\n",
    "import string\n",
    "for ccg_id in summary.index:\n",
    "    ccg = ghost_df[ghost_df.ccg_id == ccg_id]\n",
    "    top_presentations = ccg.groupby('bnf_description').sum().sort_values('excess_cost_dt', ascending=False).head(10).reset_index()[['bnf_description', 'excess_cost_dt']]\n",
    "    target_prescriptions = top_presentations.merge(ccg, how='left', left_on='bnf_description', right_on='bnf_description').sort_values('excess_cost_dt_y', ascending=False)\n",
    "    useful_cols = ['practice_code', 'bnf_description', 'bnf_code', 'items', 'excess_cost_dt_y']\n",
    "    target_prescriptions = target_prescriptions[useful_cols]\n",
    "    target_prescriptions.columns = ['practice_code', 'bnf_description', 'bnf_code', 'items', 'excess_cost']\n",
    "    summary.loc[ccg_id, 'saving_from_top_10'] = target_prescriptions['excess_cost_dt_y'].sum()\n",
    "    target_prescriptions.to_csv(\"csv_data/{}.csv\".format(ccg_id))\n",
    "summary = summary.reset_index()"
   ]
  },
  {
   "cell_type": "code",
   "execution_count": null,
   "metadata": {},
   "outputs": [],
   "source": []
  }
 ],
 "metadata": {
  "kernelspec": {
   "display_name": "Python (jupyter virtualenv)",
   "language": "python",
   "name": "jupyter"
  },
  "language_info": {
   "codemirror_mode": {
    "name": "ipython",
    "version": 3
   },
   "file_extension": ".py",
   "mimetype": "text/x-python",
   "name": "python",
   "nbconvert_exporter": "python",
   "pygments_lexer": "ipython3",
   "version": "3.6.5"
  }
 },
 "nbformat": 4,
 "nbformat_minor": 2
}
