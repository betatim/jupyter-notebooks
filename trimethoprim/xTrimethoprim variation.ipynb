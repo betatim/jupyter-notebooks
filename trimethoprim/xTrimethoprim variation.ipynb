{
 "cells": [
  {
   "cell_type": "markdown",
   "metadata": {},
   "source": [
    "#Trimethoprim / Nitrofuranotin codes"
   ]
  },
  {
   "cell_type": "code",
   "execution_count": 1,
   "metadata": {
    "collapsed": true
   },
   "outputs": [],
   "source": [
    "#import libraries required for analysis\n",
    "import pandas as pd\n",
    "import numpy as np\n",
    "import matplotlib\n",
    "import matplotlib.pyplot as plt\n",
    "import seaborn as sns\n",
    "from matplotlib.dates import  DateFormatter\n",
    "import datetime\n",
    "%matplotlib inline"
   ]
  },
  {
   "cell_type": "code",
   "execution_count": 2,
   "metadata": {
    "collapsed": false
   },
   "outputs": [
    {
     "name": "stdout",
     "output_type": "stream",
     "text": [
      "Please visit this URL to authorize this application: https://accounts.google.com/o/oauth2/auth?response_type=code&client_id=495642085510-k0tmvj2m941jhre2nbqka17vqpjfddtd.apps.googleusercontent.com&redirect_uri=urn%3Aietf%3Awg%3Aoauth%3A2.0%3Aoob&scope=https%3A%2F%2Fwww.googleapis.com%2Fauth%2Fbigquery&state=TYyLFjEEl7uBQkCBHluixfokN6Rdoh&access_type=offline&prompt=consent\n",
      "Enter the authorization code: 4/AAA6_dXPWh5h5KTFrfJoYjvkelMgjIBZPUNuzFeiqjQuJGM0bmypIlE\n",
      "Requesting query... ok.\n",
      "Job ID: job_vgqnlw-Elnj7c-OkENBa_J64Hqcs\n",
      "Query running...\n",
      "Query done.\n",
      "Processed: 148.2 MB\n",
      "Standard price: $0.00 USD\n",
      "\n",
      "Retrieving results...\n",
      "  Got page: 1; 100% done. Elapsed 9.54 s.\n",
      "Got 18366 rows.\n",
      "\n",
      "Total time taken 10.16 s.\n",
      "Finished at 2018-02-26 15:45:36.\n"
     ]
    }
   ],
   "source": [
    "projectid = \"ebmdatalab\"\n",
    "#obtain overall data for prescribing for pregabalin capsules at CCG level\n",
    "ccg_df = pd.read_gbq(\"\"\"\n",
    "SELECT\n",
    "  trimethoprim.month as period,\n",
    "  trimethoprim.pct,\n",
    "  SUM(CASE\n",
    "      WHEN SUBSTR(trimethoprim.bnf_code,1,9)='0501080W0' THEN items\n",
    "      ELSE 0 END) AS trimethoprim_items,\n",
    "  SUM(CASE\n",
    "      WHEN SUBSTR(trimethoprim.bnf_code,1,9)='0501130R0' THEN items\n",
    "      ELSE 0 END) AS nitrofurantoin_items,\n",
    "  SUM(items) AS all_items,\n",
    "  IEEE_DIVIDE(SUM(\n",
    "      CASE\n",
    "      WHEN SUBSTR(trimethoprim.bnf_code,1,9)='0501080W0' THEN items\n",
    "        ELSE 0 END), SUM(items)) AS trimethoprim_percent\n",
    "FROM\n",
    "ebmdatalab.richard.trimethoprim_data AS trimethoprim\n",
    "INNER JOIN\n",
    "  ebmdatalab.hscic.ccgs AS ccg\n",
    "ON\n",
    "  trimethoprim.pct=ccg.code\n",
    "WHERE\n",
    " ccg.org_type = 'CCG'\n",
    "GROUP BY\n",
    "  period,\n",
    "  pct\n",
    "ORDER BY\n",
    "  period,\n",
    "  pct\n",
    "\"\"\", projectid, dialect='standard')"
   ]
  },
  {
   "cell_type": "code",
   "execution_count": 3,
   "metadata": {
    "collapsed": false
   },
   "outputs": [
    {
     "name": "stdout",
     "output_type": "stream",
     "text": [
      "Requesting query... ok.\n",
      "Job ID: job_XVeQal5R1_Wb6G6eCLbD2JBY9D71\n",
      "Query running...\n",
      "  Elapsed 11.11 s. Waiting...\n",
      "Query done.\n",
      "Processed: 171.8 MB\n",
      "Standard price: $0.00 USD\n",
      "\n",
      "Retrieving results...\n",
      "  Got page: 1; 13% done. Elapsed 18.12 s.\n",
      "  Got page: 2; 26% done. Elapsed 23.53 s.\n",
      "  Got page: 3; 39% done. Elapsed 29.91 s.\n",
      "  Got page: 4; 52% done. Elapsed 34.71 s.\n",
      "  Got page: 5; 65% done. Elapsed 39.87 s.\n",
      "  Got page: 6; 77% done. Elapsed 44.54 s.\n",
      "  Got page: 7; 90% done. Elapsed 51.27 s.\n",
      "  Got page: 8; 100% done. Elapsed 55.23 s.\n",
      "Got 452099 rows.\n",
      "\n",
      "Total time taken 71.87 s.\n",
      "Finished at 2018-02-26 15:47:10.\n"
     ]
    }
   ],
   "source": [
    "projectid = \"ebmdatalab\"\n",
    "#obtain overall data for prescribing for pregabalin capsules at practice level\n",
    "practice_df = pd.read_gbq(\"\"\"\n",
    "SELECT\n",
    "  trimethoprim.month as period,\n",
    "  trimethoprim.practice,\n",
    "  SUM(CASE\n",
    "      WHEN SUBSTR(trimethoprim.bnf_code,1,9)='0501080W0' THEN items\n",
    "      ELSE 0 END) AS trimethoprim_items,\n",
    "  SUM(CASE\n",
    "      WHEN SUBSTR(trimethoprim.bnf_code,1,9)='0501130R0' THEN items\n",
    "      ELSE 0 END) AS nitrofurantoin_items,\n",
    "  SUM(items) AS all_items,\n",
    "  IEEE_DIVIDE(SUM(\n",
    "      CASE\n",
    "      WHEN SUBSTR(trimethoprim.bnf_code,1,9)='0501080W0' THEN items\n",
    "        ELSE 0 END), SUM(items)) AS trimethoprim_percent\n",
    "FROM\n",
    "  ebmdatalab.richard.trimethoprim_data AS trimethoprim\n",
    "INNER JOIN\n",
    "  ebmdatalab.hscic.practice_statistics AS listsize\n",
    "ON\n",
    "  trimethoprim.practice=listsize.practice\n",
    "AND   \n",
    "  trimethoprim.month=listsize.month\n",
    "WHERE\n",
    "  listsize.total_list_size >=1000\n",
    "GROUP BY\n",
    "  period,\n",
    "  practice\n",
    "ORDER BY\n",
    "  period,\n",
    "  practice\n",
    "\"\"\", projectid, dialect='standard')"
   ]
  },
  {
   "cell_type": "code",
   "execution_count": 2,
   "metadata": {
    "collapsed": false
   },
   "outputs": [
    {
     "ename": "NameError",
     "evalue": "name 'np' is not defined",
     "output_type": "error",
     "traceback": [
      "\u001b[0;31m---------------------------------------------------------------------------\u001b[0m",
      "\u001b[0;31mNameError\u001b[0m                                 Traceback (most recent call last)",
      "\u001b[0;32m<ipython-input-2-c89766b1f273>\u001b[0m in \u001b[0;36m<module>\u001b[0;34m()\u001b[0m\n\u001b[1;32m      1\u001b[0m \u001b[1;31m#create deciles for practices\u001b[0m\u001b[1;33m\u001b[0m\u001b[1;33m\u001b[0m\u001b[0m\n\u001b[0;32m----> 2\u001b[0;31m \u001b[0mx\u001b[0m \u001b[1;33m=\u001b[0m \u001b[0mnp\u001b[0m\u001b[1;33m.\u001b[0m\u001b[0marange\u001b[0m\u001b[1;33m(\u001b[0m\u001b[1;36m0.1\u001b[0m\u001b[1;33m,\u001b[0m \u001b[1;36m1\u001b[0m\u001b[1;33m,\u001b[0m \u001b[1;36m0.1\u001b[0m\u001b[1;33m)\u001b[0m\u001b[1;33m\u001b[0m\u001b[0m\n\u001b[0m\u001b[1;32m      3\u001b[0m \u001b[0mpractice_deciles\u001b[0m \u001b[1;33m=\u001b[0m \u001b[0mpractice_df\u001b[0m\u001b[1;33m.\u001b[0m\u001b[0mgroupby\u001b[0m\u001b[1;33m(\u001b[0m\u001b[1;34m'period'\u001b[0m\u001b[1;33m)\u001b[0m\u001b[1;33m[\u001b[0m\u001b[1;34m'trimethoprim_percent'\u001b[0m\u001b[1;33m]\u001b[0m\u001b[1;33m.\u001b[0m\u001b[0mquantile\u001b[0m\u001b[1;33m(\u001b[0m\u001b[0mx\u001b[0m\u001b[1;33m)\u001b[0m\u001b[1;33m\u001b[0m\u001b[0m\n\u001b[1;32m      4\u001b[0m \u001b[0mpractice_deciles_df\u001b[0m\u001b[1;33m=\u001b[0m\u001b[0mpd\u001b[0m\u001b[1;33m.\u001b[0m\u001b[0mDataFrame\u001b[0m\u001b[1;33m(\u001b[0m\u001b[0mpractice_deciles\u001b[0m\u001b[1;33m)\u001b[0m\u001b[1;33m\u001b[0m\u001b[0m\n\u001b[1;32m      5\u001b[0m \u001b[0mpractice_deciles_df\u001b[0m\u001b[1;33m=\u001b[0m\u001b[0mpractice_deciles_df\u001b[0m\u001b[1;33m.\u001b[0m\u001b[0mreset_index\u001b[0m\u001b[1;33m(\u001b[0m\u001b[1;33m)\u001b[0m\u001b[1;33m\u001b[0m\u001b[0m\n",
      "\u001b[0;31mNameError\u001b[0m: name 'np' is not defined"
     ]
    }
   ],
   "source": [
    "#create deciles for practices\n",
    "x = np.arange(0.1, 1, 0.1)\n",
    "practice_deciles = practice_df.groupby('period')['trimethoprim_percent'].quantile(x)\n",
    "practice_deciles_df=pd.DataFrame(practice_deciles)\n",
    "practice_deciles_df=practice_deciles_df.reset_index()\n",
    "# create integer range of percentiles as integers are better for  charts\n",
    "practice_deciles_df[\"index\"] = (practice_deciles_df.level_1*10).map(int)\n",
    "practice_deciles_df['period'] = practice_deciles_df['period'].astype(str)\n",
    "# set format for dates:\n",
    "practice_deciles_df['period'] = [datetime.datetime.strptime(date, '%Y-%m-%d').date() for date in practice_deciles_df['period']]\n",
    "\n",
    "#create deciles for CCGs\n",
    "x = np.arange(0.1, 1, 0.1)\n",
    "ccg_deciles = ccg_df.groupby('period')['trimethoprim_percent'].quantile(x)\n",
    "ccg_deciles_df=pd.DataFrame(ccg_deciles)\n",
    "ccg_deciles_df=ccg_deciles_df.reset_index()\n",
    "# create integer range of percentiles as integers are better for  charts\n",
    "ccg_deciles_df[\"index\"] = (ccg_deciles_df.level_1*10).map(int)\n",
    "ccg_deciles_df['period'] = ccg_deciles_df['period'].astype(str)\n",
    "# set format for dates:\n",
    "ccg_deciles_df['period'] = [datetime.datetime.strptime(date, '%Y-%m-%d').date() for date in ccg_deciles_df['period']]"
   ]
  },
  {
   "cell_type": "code",
   "execution_count": 1,
   "metadata": {
    "collapsed": false
   },
   "outputs": [
    {
     "ename": "NameError",
     "evalue": "name 'ccg_deciles_df' is not defined",
     "output_type": "error",
     "traceback": [
      "\u001b[0;31m---------------------------------------------------------------------------\u001b[0m",
      "\u001b[0;31mNameError\u001b[0m                                 Traceback (most recent call last)",
      "\u001b[0;32m<ipython-input-1-c22b47eabfbf>\u001b[0m in \u001b[0;36m<module>\u001b[0;34m()\u001b[0m\n\u001b[1;32m     11\u001b[0m \u001b[1;33m\u001b[0m\u001b[0m\n\u001b[1;32m     12\u001b[0m \u001b[1;31m# set sort order of drugs manually, and add grid refs to position each subplot:\u001b[0m\u001b[1;33m\u001b[0m\u001b[1;33m\u001b[0m\u001b[0m\n\u001b[0;32m---> 13\u001b[0;31m \u001b[0ms\u001b[0m \u001b[1;33m=\u001b[0m \u001b[1;33m[\u001b[0m\u001b[1;33m(\u001b[0m\u001b[1;36m0\u001b[0m\u001b[1;33m,\u001b[0m\u001b[0mccg_deciles_df\u001b[0m\u001b[1;33m,\u001b[0m\u001b[1;36m0\u001b[0m\u001b[1;33m,\u001b[0m\u001b[1;36m0\u001b[0m\u001b[1;33m,\u001b[0m\u001b[1;34m'CCGs'\u001b[0m\u001b[1;33m)\u001b[0m\u001b[1;33m,\u001b[0m \u001b[1;33m(\u001b[0m\u001b[1;36m1\u001b[0m\u001b[1;33m,\u001b[0m\u001b[0mpractice_deciles_df\u001b[0m\u001b[1;33m,\u001b[0m\u001b[1;36m0\u001b[0m\u001b[1;33m,\u001b[0m\u001b[1;36m1\u001b[0m\u001b[1;33m,\u001b[0m\u001b[1;34m'practices'\u001b[0m\u001b[1;33m)\u001b[0m\u001b[1;33m]\u001b[0m\u001b[1;33m\u001b[0m\u001b[0m\n\u001b[0m\u001b[1;32m     14\u001b[0m \u001b[1;33m\u001b[0m\u001b[0m\n\u001b[1;32m     15\u001b[0m \u001b[1;31m# Plot each subplot using a loop\u001b[0m\u001b[1;33m\u001b[0m\u001b[1;33m\u001b[0m\u001b[0m\n",
      "\u001b[0;31mNameError\u001b[0m: name 'ccg_deciles_df' is not defined"
     ]
    }
   ],
   "source": [
    "# Plot time series charts of deciles\n",
    "import matplotlib.pyplot as plt\n",
    "import datetime\n",
    "import matplotlib.gridspec as gridspec\n",
    "import seaborn as sns\n",
    "\n",
    "sns.set_style(\"whitegrid\",{'grid.color': '.9'})\n",
    "\n",
    "fig = plt.figure(figsize=(16,6.666)) \n",
    "gs = gridspec.GridSpec(1,2)  # grid layout for subplots\n",
    "\n",
    "# set sort order of drugs manually, and add grid refs to position each subplot:\n",
    "s = [(0,ccg_deciles_df,0,0,'CCGs'), (1,practice_deciles_df,0,1,'practices')]\n",
    "\n",
    "# Plot each subplot using a loop\n",
    "for i in s:\n",
    "    ax = plt.subplot(gs[i[2], i[3]])  # position of subplot in grid using coordinates listed in s\n",
    "    for decile in range(1,10):   # plot each decile line\n",
    "        data = i[1].loc[(i[1]['index']==decile)]\n",
    "        if decile == 5:\n",
    "            ax.plot(data[\"period\"],100*data['trimethoprim_percent'],'b-',linewidth=0.7)\n",
    "        else:\n",
    "            ax.plot(data[\"period\"],100*data['trimethoprim_percent'],'b--',linewidth=0.4)\n",
    "    if  i[3]%2==0:    # set y axis title only for charts in leftmost column\n",
    "        ax.set_ylabel('Trimethoprim as percentage of trimethoprim & nitrofurantoin items', size =15, alpha=0.6)\n",
    "    ax.set_title(i[4],size = 18)\n",
    "    ax.set_ylim([0, 100*i[1]['trimethoprim_percent'].max()*1.05])  # set ymax across all subplots as largest value across dataset\n",
    "    ax.tick_params(labelsize=12)\n",
    "    ax.set_xlim([i[1]['period'].min(), i[1]['period'].max()]) # set x axis range as full date range\n",
    "    plt.setp(ax.xaxis.get_majorticklabels(), rotation=90)\n",
    "    ax.xaxis.set_major_formatter(matplotlib.dates.DateFormatter('%B %Y'))\n",
    "    \n",
    "plt.subplots_adjust(wspace = 0.07,hspace = 0.15)\n",
    "#plt.savefig('Figure X.png', format='png', dpi=300)\n",
    "plt.show()"
   ]
  },
  {
   "cell_type": "code",
   "execution_count": null,
   "metadata": {
    "collapsed": true
   },
   "outputs": [],
   "source": []
  }
 ],
 "metadata": {
  "kernelspec": {
   "display_name": "Python 3",
   "language": "python",
   "name": "python3"
  },
  "language_info": {
   "codemirror_mode": {
    "name": "ipython",
    "version": 3
   },
   "file_extension": ".py",
   "mimetype": "text/x-python",
   "name": "python",
   "nbconvert_exporter": "python",
   "pygments_lexer": "ipython3",
   "version": "3.6.0"
  }
 },
 "nbformat": 4,
 "nbformat_minor": 2
}
