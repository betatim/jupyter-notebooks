{
 "cells": [
  {
   "cell_type": "code",
   "execution_count": null,
   "metadata": {},
   "outputs": [
    {
     "name": "stderr",
     "output_type": "stream",
     "text": [
      "C:\\Users\\ajwalker\\Anaconda3\\lib\\site-packages\\statsmodels\\compat\\pandas.py:56: FutureWarning: The pandas.core.datetools module is deprecated and will be removed in a future version. Please use the pandas.tseries module instead.\n",
      "  from pandas.core import datetools\n"
     ]
    }
   ],
   "source": [
    "import pandas as pd\n",
    "import numpy as np\n",
    "GBQ_PROJECT_ID = '620265099307'\n",
    "\n",
    "import datetime\n",
    "import matplotlib.pyplot as plt\n",
    "import matplotlib.gridspec as gridspec\n",
    "import seaborn as sns\n",
    "from matplotlib import verbose\n",
    "#verbose.level = 'helpful'      # one of silent, helpful, debug, debug-annoying\n",
    "\n",
    "# taken from https://github.com/jrmontag/STLDecompose\n",
    "# requires installation - pip install stldecompose\n",
    "from stldecompose import decompose\n",
    "# Simpler smoothing uses:\n",
    "# from statsmodels.tsa.seasonal import seasonal_decompose\n",
    "\n",
    "import geopandas as gpd"
   ]
  },
  {
   "cell_type": "markdown",
   "metadata": {},
   "source": [
    "# Overall prescribing"
   ]
  },
  {
   "cell_type": "markdown",
   "metadata": {},
   "source": [
    "## Import data"
   ]
  },
  {
   "cell_type": "code",
   "execution_count": null,
   "metadata": {},
   "outputs": [],
   "source": [
    "q = '''\n",
    "SELECT\n",
    "  p.practice,\n",
    "  pct,\n",
    "  p.month,\n",
    "  SUM(IF(SUBSTR(p.bnf_code,1,6)='050113',items,0)) AS uti_items,\n",
    "  SUM(IF(SUBSTR(p.bnf_code,1,6)='050103',items,0)) AS tetracyclines,\n",
    "  SUM(IF(SUBSTR(p.bnf_code,1,6)='050108',items,0)) AS sulphonamides_trimethoprim,\n",
    "  SUM(IF(SUBSTR(p.bnf_code,1,9)='0501013K0',items,0)) AS coamoxiclav,\n",
    "  SUM(IF(SUBSTR(p.bnf_code,1,7)='0501021',items,0)) AS cephalosporins,\n",
    "  SUM(IF(SUBSTR(p.bnf_code,1,6)='050112',items,0)) AS quinolones,\n",
    "  SUM(IF(SUBSTR(p.bnf_code,1,6)='050105',items,0)) AS macrolides,\n",
    "  SUM(IF(SUBSTR(p.bnf_code,1,6)='050111',items,0)) AS metroni_tini_ornidazole,\n",
    "  SUM(IF(SUBSTR(p.bnf_code,1,6)='050101',items,0)) AS penicillins,\n",
    "  SUM(IF(SUBSTR(p.bnf_code,1,9)='0501013K0' OR\n",
    "         SUBSTR(p.bnf_code,1,7)='0501021' OR\n",
    "         SUBSTR(p.bnf_code,1,6)='050112',items,0)) AS all_broad_spectrum,\n",
    "  SUM(IF(SUBSTR(p.bnf_code,1,9)='0501013K0' OR\n",
    "         SUBSTR(p.bnf_code,1,7)='0501021' OR\n",
    "         SUBSTR(p.bnf_code,1,6) IN ('050112','050113','050103','050105','050111','050101'),items,0)) AS denom_broad_spectrum,\n",
    "  SUM(IF(SUBSTR(p.bnf_code,1,6)='050110',items,0)) AS antileprotic,\n",
    "  SUM(IF(SUBSTR(p.bnf_code,1,6)='050109',items,0)) AS antituberculosis,\n",
    "  SUM(IF(SUBSTR(p.bnf_code,1,6)='050107',items,0)) AS some_other_antibacterials,\n",
    "  SUM(IF(SUBSTR(p.bnf_code,1,6)='050104',items,0)) AS aminogylcosides,\n",
    "  SUM(items) AS items,\n",
    "  SUM(IF((p.bnf_code like'0501130R0%AG' OR p.bnf_code like '0501130R0%AA' OR p.bnf_code like '0501130R0%AD' \n",
    "    OR p.bnf_code LIKE '0501015P0%AB' OR p.bnf_code LIKE '0501080W0%AE'), p.quantity,0) \n",
    "    * r.percent_of_adq) AS numerator_uti_course,\n",
    "   SUM(IF((p.bnf_code like '0501130R0%AG' OR p.bnf_code like '0501130R0%AA' OR p.bnf_code like '0501130R0%AD'\n",
    "    OR p.bnf_code like '0501015P0%AB' OR p.bnf_code LIKE '0501080W0%AE'), p.items,0)) AS denominator_uti_course,\n",
    "  ROUND(SUM(actual_cost),2) AS actual_cost,\n",
    "  AVG(total_list_size) AS list_size,\n",
    "  CAST(JSON_EXTRACT(MAX(star_pu), '$.oral_antibacterials_item') AS FLOAT64) AS star_pu_items,\n",
    "  CAST(JSON_EXTRACT(MAX(star_pu), '$.oral_antibacterials_cost') AS FLOAT64) AS star_pu_cost\n",
    "FROM\n",
    "  ebmdatalab.alex.antibiotic_prescribing p\n",
    "INNER JOIN\n",
    "  ebmdatalab.hscic.practices prac\n",
    "ON\n",
    "  p.practice = prac.code\n",
    "  AND prac.setting = 4\n",
    "LEFT JOIN\n",
    "  ebmdatalab.hscic.practice_statistics_all_years stat\n",
    "ON\n",
    "  p.practice = stat.practice\n",
    "  AND p.month = stat.month\n",
    "LEFT JOIN\n",
    "  ebmdatalab.hscic.presentation r\n",
    "ON\n",
    "  p.bnf_code = r.bnf_code\n",
    "GROUP BY\n",
    "  practice,\n",
    "  pct,\n",
    "  month\n",
    "ORDER BY\n",
    "  practice,\n",
    "  month\n",
    "'''\n",
    "\n",
    "all_antibiotics = pd.read_gbq(q, GBQ_PROJECT_ID, verbose=False, dialect='standard')\n",
    "all_antibiotics.info()"
   ]
  },
  {
   "cell_type": "code",
   "execution_count": null,
   "metadata": {
    "scrolled": true
   },
   "outputs": [],
   "source": [
    "pc = all_antibiotics.copy()\n",
    "\n",
    "pc[\"percent_broad_spec\"] = (pc.all_broad_spectrum/pc.denom_broad_spectrum).fillna(0)\n",
    "# deal with nulls\n",
    "pc[\"three_day_courses\"] = (pc.numerator_uti_course/pc.denominator_uti_course).fillna(0)\n",
    "pc = pc.drop([\"all_broad_spectrum\",\"denom_broad_spectrum\",\"numerator_uti_course\",\"denominator_uti_course\",\"star_pu_cost\",\"actual_cost\"],axis=1)\n",
    "\n",
    "for column in pc:\n",
    "    if (pc[column].dtype == np.float64) | (pc[column].dtype == np.int32):\n",
    "        pc[\"%s_per_starpu\"%column] = pc[column]/pc[\"star_pu_items\"]\n",
    "    else:\n",
    "        pc[column] = pc[column]\n",
    "\n",
    "pc = pc.drop([\"star_pu_items_per_starpu\",\"percent_broad_spec_per_starpu\",\"three_day_courses_per_starpu\",\"list_size_per_starpu\"],axis=1)\n",
    "pc.info()\n",
    "\n"
   ]
  },
  {
   "cell_type": "markdown",
   "metadata": {},
   "source": [
    "### Calculations and percentiles"
   ]
  },
  {
   "cell_type": "code",
   "execution_count": null,
   "metadata": {
    "scrolled": false
   },
   "outputs": [],
   "source": [
    "# filter for normal practices\n",
    "filtered = pc.copy().loc[(pc.list_size>1000) & (~pd.isnull(pc.star_pu_items)) & (pc[\"month\"]>\"2010-09-01\") ]\n",
    "filtered.head()\n",
    "\n",
    "x1 = np.arange(0.1, 1, 0.1)\n",
    "x2 = np.arange(0.01,0.1,0.01)\n",
    "x3 = np.arange(0.91, 1, 0.01)\n",
    "x = np.concatenate((x1,x2,x3))\n",
    "pcf = filtered.groupby('month').quantile(x)\n",
    "pcf = pcf.reset_index().rename(columns={\"level_1\": 'percentile'})\n",
    "pcf.head(20)"
   ]
  },
  {
   "cell_type": "markdown",
   "metadata": {},
   "source": [
    "## Practice level plots"
   ]
  },
  {
   "cell_type": "markdown",
   "metadata": {},
   "source": [
    "### Without smoothing"
   ]
  },
  {
   "cell_type": "code",
   "execution_count": null,
   "metadata": {
    "scrolled": false
   },
   "outputs": [],
   "source": [
    "sns.set_style(\"whitegrid\",{'grid.color': '.9'})\n",
    "dfp = pcf.sort_values(by=[\"month\"])#,\"drug\"])\n",
    "dfp['month'] = dfp['month'].astype(str)\n",
    "# set format for dates:\n",
    "dfp['dates'] = [datetime.datetime.strptime(date, '%Y-%m-%d').date() for date in dfp['month']]\n",
    "\n",
    "# set sort order of drugs manually, and add grid refs to position each subplot:\n",
    "s = [(0,'items_per_starpu',0,0,'Antibacterial items (BNF 5.1) per STAR-PU'), \n",
    "     (1,'percent_broad_spec',0,1,'Proportion broad spectrum'),\n",
    "     (2,'cephalosporins_per_starpu',1,0,'Cephalosporins per STAR-PU'),\n",
    "     (3,'three_day_courses',1,1, 'Course length for UTIs')]\n",
    "x = pd.Series(x)\n",
    "\n",
    "fig = plt.figure(figsize=(16,20)) \n",
    "gs = gridspec.GridSpec(3,2)  # grid layout for subplots\n",
    "\n",
    "# Plot each subplot using a loop\n",
    "for i in s:\n",
    "    ax = plt.subplot(gs[i[2], i[3]])  # position of subplot in grid using coordinates listed in s\n",
    "    for decile in x:   # plot each decile line\n",
    "        data = dfp.loc[(dfp['percentile']==decile)]#(dfp['drug']==i[1]) & \n",
    "        if decile == .5:\n",
    "            ax.plot(data[\"dates\"],data[i[1]],'b-',linewidth=2)\n",
    "        elif (decile <0.1) | (decile >0.9):\n",
    "            ax.plot(data[\"dates\"],data[i[1]],'b:',linewidth=0.6)\n",
    "        else:\n",
    "            #print (data)\n",
    "            ax.plot(data[\"dates\"],data[i[1]],'b--',linewidth=1)\n",
    "    #if  i[3]%2==0:    # set y axis title only for charts in leftmost column\n",
    "    ax.set_ylabel(i[4], size =15, alpha=0.6)\n",
    "    ax.set_title(i[4],size = 18)\n",
    "    ax.set_ylim([0, dfp[i[1]].max()*1.05])  # set ymax across all subplots as largest value across dataset\n",
    "    ax.tick_params(labelsize=12)\n",
    "    ax.set_xlim([dfp['dates'].min(), dfp['dates'].max()]) # set x axis range as full date range\n",
    "\n",
    "plt.subplots_adjust(wspace = 0.12,hspace = 0.15)\n",
    "plt.savefig('practice_deciles_no_smooth.png', format='png', dpi=300,bbox_inches='tight')\n",
    "plt.show()"
   ]
  },
  {
   "cell_type": "markdown",
   "metadata": {},
   "source": [
    "### WIth smoothing"
   ]
  },
  {
   "cell_type": "code",
   "execution_count": null,
   "metadata": {
    "scrolled": false
   },
   "outputs": [],
   "source": [
    "sns.set_style(\"whitegrid\",{'grid.color': '.9'})\n",
    "dfp = pcf.sort_values(by=[\"month\"])#,\"drug\"])\n",
    "dfp['month_str'] = dfp['month'].astype(str)\n",
    "# set format for dates:\n",
    "dfp['dates'] = [datetime.datetime.strptime(date, '%Y-%m-%d').date() for date in dfp['month_str']]\n",
    "\n",
    "# set sort order of drugs manually, and add grid refs to position each subplot:\n",
    "s = [(0,'items_per_starpu',0,0,'Antibacterial items (BNF 5.1) per STAR-PU'), \n",
    "     (1,'percent_broad_spec',0,1,'Proportion broad spectrum'),\n",
    "     (2,'cephalosporins_per_starpu',1,0,'Cephalosporins per STAR-PU'),\n",
    "     (3,'three_day_courses',1,1, 'Course length for UTIs')]\n",
    "x = pd.Series(x)\n",
    "\n",
    "fig = plt.figure(figsize=(16,20)) \n",
    "gs = gridspec.GridSpec(3,2)  # grid layout for subplots\n",
    "\n",
    "# Plot each subplot using a loop\n",
    "for i in s:\n",
    "    ax = plt.subplot(gs[i[2], i[3]])  # position of subplot in grid using coordinates listed in s\n",
    "    for decile in x:   # plot each decile line\n",
    "        data = dfp.loc[(dfp['percentile']==decile)]#(dfp['drug']==i[1]) & \n",
    "        #data.info()\n",
    "        # for smoothing, dataframe needs to be non-missing and have a DateTime index\n",
    "        #data = data.dropna()\n",
    "        data = data.set_index('month')\n",
    "        res = data[[i[1]]]\n",
    "        #res = seasonal_decompose(res, model='additive') # cruder smoothing\n",
    "        res = decompose(res, period=12, lo_frac=0.6, lo_delta=0.0)\n",
    "        res = res.trend\n",
    "        \n",
    "        if decile == .5:\n",
    "            ax.plot(data[\"dates\"],res,'b-',linewidth=2)\n",
    "        elif (decile <0.1) | (decile >0.9):\n",
    "            ax.plot(data[\"dates\"],res,'b:',linewidth=0.6)\n",
    "        else:\n",
    "            #print (data)\n",
    "            ax.plot(data[\"dates\"],res,'b--',linewidth=1)\n",
    "    #if  i[3]%2==0:    # set y axis title only for charts in leftmost column\n",
    "    ax.set_ylabel(i[4], size =15, alpha=0.6)\n",
    "    ax.set_title(i[4],size = 18)\n",
    "    ax.set_ylim([0, dfp[i[1]].max()*1.05])  # set ymax across all subplots as largest value across dataset\n",
    "    ax.tick_params(labelsize=12)\n",
    "    ax.set_xlim([dfp['dates'].min(), dfp['dates'].max()]) # set x axis range as full date range\n",
    "\n",
    "plt.subplots_adjust(wspace = 0.12,hspace = 0.15)\n",
    "plt.savefig('practice_deciles_smooth.png', format='png', dpi=300,bbox_inches='tight')\n",
    "plt.show()"
   ]
  },
  {
   "cell_type": "markdown",
   "metadata": {},
   "source": [
    "## CCG level"
   ]
  },
  {
   "cell_type": "code",
   "execution_count": null,
   "metadata": {
    "scrolled": false
   },
   "outputs": [],
   "source": [
    "# remove practices with no STAR-PU\n",
    "pc_ccg =  all_antibiotics.copy().loc[~pd.isnull(pc.star_pu_items) & (pc[\"month\"]>\"2010-09-01\") ]\n",
    "# group to CCGs\n",
    "pc_ccg = pc_ccg.groupby(['pct','month'],as_index=False).sum()\n",
    "\n",
    "pc_ccg[\"percent_broad_spec\"] = (pc_ccg.all_broad_spectrum/pc_ccg.denom_broad_spectrum).fillna(0)\n",
    "# deal with nulls\n",
    "pc_ccg[\"three_day_courses\"] = (pc_ccg.numerator_uti_course/pc_ccg.denominator_uti_course).fillna(0)\n",
    "pc_ccg = pc_ccg.drop([\"all_broad_spectrum\",\"denom_broad_spectrum\",\"numerator_uti_course\",\"denominator_uti_course\",\"star_pu_cost\",\"actual_cost\"],axis=1)\n",
    "\n",
    "for column in pc_ccg:\n",
    "    if (pc_ccg[column].dtype == np.float64) | (pc_ccg[column].dtype == np.int32):\n",
    "        pc_ccg[\"%s_per_starpu\"%column] = pc_ccg[column]/pc_ccg[\"star_pu_items\"]\n",
    "    else:\n",
    "        pc_ccg[column] = pc_ccg[column]\n",
    "\n",
    "pc_ccg = pc_ccg.groupby('month').quantile(x)\n",
    "pc_ccg = pc_ccg.reset_index().rename(columns={\"level_1\": 'percentile'})\n",
    "\n",
    "pc_ccg.head(9)"
   ]
  },
  {
   "cell_type": "code",
   "execution_count": null,
   "metadata": {},
   "outputs": [],
   "source": [
    "dfp = pc_ccg.sort_values(by=[\"month\"])#,\"drug\"])\n",
    "dfp['month'] = dfp['month'].astype(str)\n",
    "# set format for dates:\n",
    "dfp['dates'] = [datetime.datetime.strptime(date, '%Y-%m-%d').date() for date in dfp['month']]\n",
    "x = pd.Series(x)\n",
    "\n",
    "# set sort order of drugs manually, and add grid refs to position each subplot:\n",
    "s = [(0,'items_per_starpu',0,0,'Antibacterial items (BNF 5.1) per STAR-PU'), \n",
    "     (1,'percent_broad_spec',0,1,'Broad spec'),\n",
    "     (2,'cephalosporins_per_starpu',1,0,'Cephalosporins per STAR-PU'),\n",
    "     (3,'three_day_courses',1,1, 'course length')\n",
    "    ]\n",
    "\n",
    "fig = plt.figure(figsize=(16,20)) \n",
    "gs = gridspec.GridSpec(3,2)  # grid layout for subplots\n",
    "\n",
    "# Plot each subplot using a loop\n",
    "for i in s:\n",
    "    ax = plt.subplot(gs[i[2], i[3]])  # position of subplot in grid using coordinates listed in s\n",
    "    for decile in x:   # plot each decile line\n",
    "        data = dfp.loc[(dfp['percentile']==decile)]#(dfp['drug']==i[1]) & \n",
    "        if decile == .5:\n",
    "            ax.plot(data[\"dates\"],data[i[1]],'b-',linewidth=2)\n",
    "        elif (decile <0.1) | (decile >0.9):\n",
    "            ax.plot(data[\"dates\"],data[i[1]],'b:',linewidth=0.6)\n",
    "        else:\n",
    "            #print (data)\n",
    "            ax.plot(data[\"dates\"],data[i[1]],'b--',linewidth=1)\n",
    "    if  i[3]%2==0:    # set y axis title only for charts in leftmost column\n",
    "        ax.set_ylabel('Antibacterial items/cost (BNF 5.1) per STAR-PU', size =15, alpha=0.6)\n",
    "    ax.set_ylabel(i[4], size =15, alpha=0.6)\n",
    "    ax.set_title(i[4],size = 18)\n",
    "    #ax.set_ylim([0, dfp[i[1]].max()*1.05])  # set ymax across all subplots as largest value across dataset\n",
    "    ax.tick_params(labelsize=12)\n",
    "    ax.set_xlim([dfp['dates'].min(), dfp['dates'].max()]) # set x axis range as full date range\n",
    "\n",
    "plt.subplots_adjust(wspace = 0.09,hspace = 0.15)\n",
    "#plt.savefig('ccg_deciles.png', format='png', dpi=300,bbox_inches='tight')\n",
    "\n",
    "plt.show()"
   ]
  },
  {
   "cell_type": "markdown",
   "metadata": {},
   "source": [
    "# MAPS"
   ]
  },
  {
   "cell_type": "code",
   "execution_count": null,
   "metadata": {
    "scrolled": false
   },
   "outputs": [],
   "source": [
    "#aggregate over last year\n",
    "ccg_last_year =  all_antibiotics.copy().loc[~pd.isnull(pc.star_pu_items) & (pc[\"month\"] >='2016-11-01') ]\n",
    "#ccg_last_year = all_antibiotics_ccg.loc[all_antibiotics_ccg.month]\n",
    "ccg_last_year = ccg_last_year.groupby('pct').sum()\n",
    "\n",
    "ccg_last_year[\"percent_broad_spec\"] = (ccg_last_year.all_broad_spectrum/ccg_last_year.denom_broad_spectrum).fillna(0)\n",
    "# deal with nulls\n",
    "ccg_last_year[\"three_day_courses\"] = (ccg_last_year.numerator_uti_course/ccg_last_year.denominator_uti_course).fillna(0)\n",
    "ccg_last_year = ccg_last_year.drop([\"all_broad_spectrum\",\"denom_broad_spectrum\",\"numerator_uti_course\",\"denominator_uti_course\",\"star_pu_cost\",\"actual_cost\"],axis=1)\n",
    "\n",
    "for column in ccg_last_year:\n",
    "    if (ccg_last_year[column].dtype == np.float64) | (ccg_last_year[column].dtype == np.int32):\n",
    "        ccg_last_year[\"%s_per_starpu\"%column] = ccg_last_year[column]/ccg_last_year[\"star_pu_items\"]\n",
    "    else:\n",
    "        ccg_last_year[column] = ccg_last_year[column]\n",
    "ccg_last_year = ccg_last_year.drop([\"star_pu_items_per_starpu\",\"percent_broad_spec_per_starpu\",\"three_day_courses_per_starpu\",\"list_size_per_starpu\"],axis=1)\n",
    "\n",
    "ccg_last_year"
   ]
  },
  {
   "cell_type": "code",
   "execution_count": null,
   "metadata": {},
   "outputs": [],
   "source": [
    "# join to geographical data\n",
    "map_data = ccg_last_year.reset_index()\n",
    "names = pd.read_csv('ccg_for_map.csv')\n",
    "names = names.rename(columns={\"CCG17CDH\":\"code\",\"CCG17NM\":\"name\"})\n",
    "map_data = map_data.merge(names[['code','name']],left_on=\"pct\",right_on=\"code\")\n",
    "map_data['name'] = map_data['name'].str.upper()\n",
    "map_data['name'] = map_data[\"name\"].str.replace(\"&\",\"AND\")\n",
    "map_data = map_data.set_index('name')\n",
    "#map_data = map_data.round(0)\n",
    "map_data.head() # 207 rows"
   ]
  },
  {
   "cell_type": "code",
   "execution_count": null,
   "metadata": {},
   "outputs": [],
   "source": [
    "# from our API https://openprescribing.net/api/1.0/org_location/?org_type=ccg\n",
    "ccgs = gpd.read_file('ccgs.json').set_index('name')\n",
    "\n",
    "ccgs = ccgs[~ccgs['geometry'].isnull()]  # remove ones without geometry - these are federations rather than individual CCGs\n",
    "gdf = ccgs.join(map_data)\n",
    "\n",
    "# set sort order of measures manually, and add grid refs to position each subplot:\n",
    "s = [(0,'items_per_starpu',0,0,'Antibacterial items (BNF 5.1) per STAR-PU'), \n",
    "     (1,'percent_broad_spec',0,1,'Proportion Broad Spectrum'),\n",
    "     (2,'cephalosporins_per_starpu',1,0,'Cephalosporin items per STAR-PU'),\n",
    "     (3,'three_day_courses',1,1, 'UTI antibiotic course average length (days)')]\n",
    "\n",
    "fig = plt.figure(figsize=(16,30))\n",
    "gs = gridspec.GridSpec(4,2)  # grid layout for subplots\n",
    "\n",
    "for i in s:\n",
    "    ax = plt.subplot(gs[i[2], i[3]])  # position of subplot in grid using coordinates listed in s\n",
    "    gdf.plot(ax=ax,column=i[1],  edgecolor='black', linewidth=0.1, legend=True, cmap='OrRd')\n",
    "    ax.set_aspect(1.63)\n",
    "    ax.set_title(i[4],size = 18)\n",
    "    plt.axis('off')\n",
    "\n",
    "plt.subplots_adjust(wspace = 0.05,hspace = 0.05)\n",
    "plt.savefig('maps.png', format='png', dpi=300,bbox_inches='tight')\n",
    "\n",
    "plt.show()"
   ]
  },
  {
   "cell_type": "markdown",
   "metadata": {
    "collapsed": true
   },
   "source": [
    "# Additional plots for appendices"
   ]
  },
  {
   "cell_type": "code",
   "execution_count": null,
   "metadata": {
    "scrolled": false
   },
   "outputs": [],
   "source": [
    "sns.set_style(\"whitegrid\",{'grid.color': '.9'})\n",
    "dfp = pcf.sort_values(by=[\"month\"])#,\"drug\"])\n",
    "dfp['month_str'] = dfp['month'].astype(str)\n",
    "# set format for dates:\n",
    "dfp['dates'] = [datetime.datetime.strptime(date, '%Y-%m-%d').date() for date in dfp['month_str']]\n",
    "\n",
    "# set sort order of drugs manually, and add grid refs to position each subplot:\n",
    "s = [(0,'aminogylcosides_per_starpu',0,0,'Aminogylcosides per STAR-PU'), \n",
    "     (1,'antileprotic_per_starpu',0,1,'Antileprotic per STAR-PU'),\n",
    "     (2,'cephalosporins_per_starpu',1,0,'Cephalosporins per STAR-PU'),\n",
    "     (3,'coamoxiclav_per_starpu',1,1, 'Coamoxiclav per STAR-PU'),\n",
    "     (4,'macrolides_per_starpu',2,0, 'Macrolides per STAR-PU'),\n",
    "     (5,'metroni_tini_ornidazole_per_starpu',2,1, 'Metronidazole and tinidazole per STAR-PU'),\n",
    "     (6,'quinolones_per_starpu',3,0, 'Quinolones per STAR-PU'),\n",
    "     (7,'some_other_antibacterials_per_starpu',3,1, 'Some other antibacterials per STAR-PU'),\n",
    "     (8,'sulphonamides_trimethoprim_per_starpu',4,0, 'Sulphonamides and trimethoprim per STAR-PU'),\n",
    "     (9,'tetracyclines_per_starpu',4,1, 'Tetracyclines per STAR-PU'),\n",
    "     (10,'uti_items_per_starpu',5,0, 'UTI items per STAR-PU')\n",
    "    ]\n",
    "x = pd.Series(x)\n",
    "\n",
    "fig = plt.figure(figsize=(16,35)) \n",
    "gs = gridspec.GridSpec(6,2)  # grid layout for subplots\n",
    "\n",
    "# Plot each subplot using a loop\n",
    "for i in s:\n",
    "    ax = plt.subplot(gs[i[2], i[3]])  # position of subplot in grid using coordinates listed in s\n",
    "    for decile in x:   # plot each decile line\n",
    "        data = dfp.loc[(dfp['percentile']==decile)]#(dfp['drug']==i[1]) & \n",
    "        #data.info()\n",
    "        # for smoothing, dataframe needs to be non-missing and have a DateTime index\n",
    "        #data = data.dropna()\n",
    "        data = data.set_index('month')\n",
    "        res = data[[i[1]]]\n",
    "        #res = seasonal_decompose(res, model='additive') # cruder smoothing\n",
    "        #res = decompose(res, period=12, lo_frac=0.6, lo_delta=0.0)\n",
    "        #res = res.trend\n",
    "        \n",
    "        if decile == .5:\n",
    "            ax.plot(data[\"dates\"],res,'b-',linewidth=2)\n",
    "        elif (decile <0.1) | (decile >0.9):\n",
    "            ax.plot(data[\"dates\"],res,'b:',linewidth=0.6)\n",
    "        else:\n",
    "            #print (data)\n",
    "            ax.plot(data[\"dates\"],res,'b--',linewidth=1)\n",
    "    #if  i[3]%2==0:    # set y axis title only for charts in leftmost column\n",
    "    ax.set_ylabel(i[4], size =15, alpha=0.6)\n",
    "    ax.set_title(i[4],size = 18)\n",
    "    ax.set_ylim([0, dfp[i[1]].max()*1.05])  # set ymax across all subplots as largest value across dataset\n",
    "    ax.tick_params(labelsize=12)\n",
    "    ax.set_xlim([dfp['dates'].min(), dfp['dates'].max()]) # set x axis range as full date range\n",
    "\n",
    "plt.subplots_adjust(wspace = 0.16,hspace = 0.15)\n",
    "plt.savefig('practice_deciles_appendices.png', format='png', dpi=300,bbox_inches='tight')\n",
    "plt.show()"
   ]
  },
  {
   "cell_type": "code",
   "execution_count": null,
   "metadata": {},
   "outputs": [],
   "source": []
  }
 ],
 "metadata": {
  "kernelspec": {
   "display_name": "Python [default]",
   "language": "python",
   "name": "python3"
  },
  "language_info": {
   "codemirror_mode": {
    "name": "ipython",
    "version": 3
   },
   "file_extension": ".py",
   "mimetype": "text/x-python",
   "name": "python",
   "nbconvert_exporter": "python",
   "pygments_lexer": "ipython3",
   "version": "3.5.4"
  }
 },
 "nbformat": 4,
 "nbformat_minor": 2
}
