{
 "cells": [
  {
   "cell_type": "markdown",
   "metadata": {},
   "source": [
    "Adapted from https://stackoverflow.com/questions/14622526/create-a-table-from-query-results-in-google-bigquery\n",
    "\n",
    "I could only get this to work in Python 3 for whatever reason.\n",
    "\n",
    "# Create client"
   ]
  },
  {
   "cell_type": "code",
   "execution_count": null,
   "metadata": {
    "collapsed": true
   },
   "outputs": [],
   "source": [
    "from google.cloud import bigquery\n",
    "\n",
    "class Client(object):\n",
    "\n",
    "    def __init__(self, query, destination_dataset, destination_table):\n",
    "        \"\"\"\n",
    "        A Client that performs a user-specified query and INSERTS the results in a\n",
    "        user-specified location.\n",
    "\n",
    "        All init args are strings. Note that the destination project is the\n",
    "        default project from your Google Cloud configuration.\n",
    "        \"\"\"\n",
    "        self.query = query\n",
    "        #self.project = origin_project\n",
    "        #self.dataset = origin_dataset\n",
    "        #self.table = origin_table\n",
    "        self.dest_dataset = destination_dataset\n",
    "        self.dest_table_name = destination_table\n",
    "        self.client = bigquery.Client()\n",
    "\n",
    "    def run(self):\n",
    "        query = self.query #query = (\"SELECT * FROM `{project}.{dataset}.{table}`;\".format(\n",
    "        #    project=self.project, dataset=self.dataset, table=self.table))\n",
    "\n",
    "        job_config = bigquery.QueryJobConfig()\n",
    "\n",
    "        # Set configuration.query.destinationTable\n",
    "        destination_dataset = self.client.dataset(self.dest_dataset)\n",
    "        destination_table = destination_dataset.table(self.dest_table_name)\n",
    "        job_config.destination = destination_table\n",
    "\n",
    "        # Set configuration.query.createDisposition\n",
    "        job_config.create_disposition = 'CREATE_IF_NEEDED'\n",
    "\n",
    "        # Set configuration.query.writeDisposition\n",
    "        job_config.write_disposition = 'WRITE_TRUNCATE'\n",
    "\n",
    "        # Start the query\n",
    "        job = self.client.query(query, job_config=job_config)\n",
    "\n",
    "        # Wait for the query to finish\n",
    "        job.result()"
   ]
  },
  {
   "cell_type": "markdown",
   "metadata": {},
   "source": [
    "## Make antibiotic prescribing table"
   ]
  },
  {
   "cell_type": "code",
   "execution_count": null,
   "metadata": {
    "collapsed": true
   },
   "outputs": [],
   "source": [
    "q = '''\n",
    "SELECT\n",
    "  practice,\n",
    "  pct,\n",
    "  bnf_code,\n",
    "  bnf_name,\n",
    "  month,\n",
    "  items,\n",
    "  quantity,\n",
    "  actual_cost\n",
    "FROM\n",
    "  ebmdatalab.hscic.normalised_prescribing_standard\n",
    "WHERE\n",
    "  (bnf_code LIKE '0501%%')\n",
    "'''\n",
    "query = Client(query=q, destination_dataset='alex', destination_table='antibiotic_prescribing')\n",
    "query.run()"
   ]
  },
  {
   "cell_type": "markdown",
   "metadata": {},
   "source": [
    "## Match BNF chemical level with ADQ table"
   ]
  },
  {
   "cell_type": "code",
   "execution_count": null,
   "metadata": {
    "collapsed": true
   },
   "outputs": [],
   "source": [
    "q = '''\n",
    "WITH\n",
    "  subQbnf AS (\n",
    "  SELECT\n",
    "    *,\n",
    "    REGEXP_EXTRACT(chemical, r'^([\\w\\-]+)') AS bnf_chemical\n",
    "  FROM\n",
    "    ebmdatalab.hscic.bnf),\n",
    "  subQadq AS (\n",
    "  SELECT\n",
    "    *,\n",
    "    REGEXP_EXTRACT(BNF_Name, r'^([\\w\\-]+)') AS adq_chemical\n",
    "  FROM\n",
    "    ebmdatalab.alex.antibiotic_adq)\n",
    "SELECT\n",
    "  DISTINCT SUBSTR(p.bnf_code,1,9) AS chemical_code,\n",
    "  Admin_Route,\n",
    "  ADQ,\n",
    "  Unit\n",
    "FROM\n",
    "  ebmdatalab.alex.antibiotic_prescribing p\n",
    "LEFT JOIN\n",
    "  subQbnf\n",
    "ON\n",
    "  SUBSTR(bnf_code,1,9) = subQbnf.chemical_code\n",
    "LEFT JOIN\n",
    "  subQadq\n",
    "ON\n",
    "  bnf_chemical = adq_chemical\n",
    "'''\n",
    "query = Client(query=q, destination_dataset='alex', destination_table='antibiotic_adq_codes')\n",
    "query.run()"
   ]
  },
  {
   "cell_type": "markdown",
   "metadata": {},
   "source": [
    "## Regex dose info"
   ]
  },
  {
   "cell_type": "code",
   "execution_count": null,
   "metadata": {
    "collapsed": true
   },
   "outputs": [],
   "source": [
    "q = '''\n",
    "SELECT\n",
    "  chemical,\n",
    "  presentation_code,\n",
    "  presentation,\n",
    "  REGEXP_EXTRACT(presentation, r'[^\\d]+(\\d*\\,?\\.?\\d*)') AS dose,\n",
    "  REGEXP_EXTRACT(presentation, r'[^\\d]+\\d*\\,?\\.?\\d*([\\w]*)') AS dose_units,\n",
    "  REGEXP_EXTRACT(presentation, r'\\d+\\,?\\.?\\d*.*?/(\\d*\\.?\\d*)') AS per,\n",
    "  REGEXP_EXTRACT(presentation, r'\\d+\\,?\\.?\\d*.*?/\\d+\\.?\\d*([\\w]*)') AS per_units,\n",
    "  CASE\n",
    "    WHEN presentation LIKE '%Pfs%' OR presentation LIKE '%Amp%' OR presentation LIKE '%Imp%' THEN TRUE\n",
    "    ELSE FALSE\n",
    "  END AS fixed_dose,\n",
    "  REGEXP_EXTRACT(presentation, r'[^_]+_(.*?)(?:[0-9]+.*)?$') AS delivery_method\n",
    "FROM\n",
    "  ebmdatalab.hscic.bnf\n",
    "WHERE\n",
    "  presentation_code LIKE '0501%'\n",
    "ORDER BY\n",
    "  presentation_code\n",
    "'''\n",
    "query = Client(query=q, destination_dataset='alex', destination_table='cost_%s')\n",
    "query.run()"
   ]
  },
  {
   "cell_type": "markdown",
   "metadata": {},
   "source": [
    "## Smoosh together"
   ]
  },
  {
   "cell_type": "code",
   "execution_count": null,
   "metadata": {
    "collapsed": true
   },
   "outputs": [],
   "source": []
  }
 ],
 "metadata": {
  "kernelspec": {
   "display_name": "Python 3",
   "language": "python",
   "name": "python3"
  },
  "language_info": {
   "codemirror_mode": {
    "name": "ipython",
    "version": 3
   },
   "file_extension": ".py",
   "mimetype": "text/x-python",
   "name": "python",
   "nbconvert_exporter": "python",
   "pygments_lexer": "ipython3",
   "version": "3.6.4"
  }
 },
 "nbformat": 4,
 "nbformat_minor": 2
}
