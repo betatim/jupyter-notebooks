{
 "cells": [
  {
   "cell_type": "code",
   "execution_count": 2,
   "metadata": {
    "collapsed": true
   },
   "outputs": [],
   "source": [
    "import pandas as pd\n",
    "import numpy as np"
   ]
  },
  {
   "cell_type": "code",
   "execution_count": 6,
   "metadata": {
    "collapsed": false
   },
   "outputs": [],
   "source": [
    "df = pd.read_csv('CCGspec2017.csv')"
   ]
  },
  {
   "cell_type": "code",
   "execution_count": 7,
   "metadata": {
    "collapsed": false
   },
   "outputs": [
    {
     "data": {
      "text/html": [
       "<div>\n",
       "<style>\n",
       "    .dataframe thead tr:only-child th {\n",
       "        text-align: right;\n",
       "    }\n",
       "\n",
       "    .dataframe thead th {\n",
       "        text-align: left;\n",
       "    }\n",
       "\n",
       "    .dataframe tbody tr th {\n",
       "        vertical-align: top;\n",
       "    }\n",
       "</style>\n",
       "<table border=\"1\" class=\"dataframe\">\n",
       "  <thead>\n",
       "    <tr style=\"text-align: right;\">\n",
       "      <th></th>\n",
       "      <th>PERIOD</th>\n",
       "      <th>COMMISSIONER</th>\n",
       "      <th>PRODUCT</th>\n",
       "      <th>ITEM</th>\n",
       "      <th>QUANTITY</th>\n",
       "      <th>NIC</th>\n",
       "      <th>PPU</th>\n",
       "    </tr>\n",
       "  </thead>\n",
       "  <tbody>\n",
       "    <tr>\n",
       "      <th>0</th>\n",
       "      <td>201702</td>\n",
       "      <td>02N00</td>\n",
       "      <td>Colecal_Tab 20,000u</td>\n",
       "      <td>2</td>\n",
       "      <td>32</td>\n",
       "      <td>395</td>\n",
       "      <td>12.343750</td>\n",
       "    </tr>\n",
       "    <tr>\n",
       "      <th>1</th>\n",
       "      <td>201702</td>\n",
       "      <td>02N00</td>\n",
       "      <td>Quetiapine_Oral Susp 200mg/5ml</td>\n",
       "      <td>1</td>\n",
       "      <td>150</td>\n",
       "      <td>110</td>\n",
       "      <td>0.733333</td>\n",
       "    </tr>\n",
       "    <tr>\n",
       "      <th>2</th>\n",
       "      <td>201702</td>\n",
       "      <td>02N00</td>\n",
       "      <td>Co-Proxamol_Tab 32.5mg/325mg</td>\n",
       "      <td>2</td>\n",
       "      <td>200</td>\n",
       "      <td>155.8</td>\n",
       "      <td>0.779000</td>\n",
       "    </tr>\n",
       "    <tr>\n",
       "      <th>3</th>\n",
       "      <td>201702</td>\n",
       "      <td>02N00</td>\n",
       "      <td>Sod Chlor_Eye Dps 0.9%</td>\n",
       "      <td>1</td>\n",
       "      <td>10</td>\n",
       "      <td>244.06</td>\n",
       "      <td>24.406000</td>\n",
       "    </tr>\n",
       "    <tr>\n",
       "      <th>4</th>\n",
       "      <td>201702</td>\n",
       "      <td>02N00</td>\n",
       "      <td>Phytomenadione_Tab 10mg</td>\n",
       "      <td>1</td>\n",
       "      <td>30</td>\n",
       "      <td>44</td>\n",
       "      <td>1.466667</td>\n",
       "    </tr>\n",
       "  </tbody>\n",
       "</table>\n",
       "</div>"
      ],
      "text/plain": [
       "   PERIOD COMMISSIONER                         PRODUCT  ITEM QUANTITY     NIC  \\\n",
       "0  201702        02N00             Colecal_Tab 20,000u     2       32     395   \n",
       "1  201702        02N00  Quetiapine_Oral Susp 200mg/5ml     1      150     110   \n",
       "2  201702        02N00    Co-Proxamol_Tab 32.5mg/325mg     2      200   155.8   \n",
       "3  201702        02N00          Sod Chlor_Eye Dps 0.9%     1       10  244.06   \n",
       "4  201702        02N00         Phytomenadione_Tab 10mg     1       30      44   \n",
       "\n",
       "         PPU  \n",
       "0  12.343750  \n",
       "1   0.733333  \n",
       "2   0.779000  \n",
       "3  24.406000  \n",
       "4   1.466667  "
      ]
     },
     "execution_count": 7,
     "metadata": {},
     "output_type": "execute_result"
    }
   ],
   "source": [
    "df.head()"
   ]
  },
  {
   "cell_type": "code",
   "execution_count": 15,
   "metadata": {
    "collapsed": false
   },
   "outputs": [],
   "source": [
    "import datetime\n",
    "#create deciles for practices\n",
    "x = np.arange(0.1, 1, 0.1)\n",
    "deciles = df.groupby('PRODUCT')['PPU'].quantile(x)\n",
    "deciles_df=pd.DataFrame(deciles)\n",
    "deciles_df=deciles_df.reset_index()\n"
   ]
  },
  {
   "cell_type": "code",
   "execution_count": 16,
   "metadata": {
    "collapsed": false
   },
   "outputs": [
    {
     "data": {
      "text/html": [
       "<div>\n",
       "<style>\n",
       "    .dataframe thead tr:only-child th {\n",
       "        text-align: right;\n",
       "    }\n",
       "\n",
       "    .dataframe thead th {\n",
       "        text-align: left;\n",
       "    }\n",
       "\n",
       "    .dataframe tbody tr th {\n",
       "        vertical-align: top;\n",
       "    }\n",
       "</style>\n",
       "<table border=\"1\" class=\"dataframe\">\n",
       "  <thead>\n",
       "    <tr style=\"text-align: right;\">\n",
       "      <th></th>\n",
       "      <th>PRODUCT</th>\n",
       "      <th>level_1</th>\n",
       "      <th>PPU</th>\n",
       "    </tr>\n",
       "  </thead>\n",
       "  <tbody>\n",
       "    <tr>\n",
       "      <th>0</th>\n",
       "      <td>Acetazolamide_Liq Spec 100mg/5ml</td>\n",
       "      <td>0.1</td>\n",
       "      <td>0.898844</td>\n",
       "    </tr>\n",
       "    <tr>\n",
       "      <th>1</th>\n",
       "      <td>Acetazolamide_Liq Spec 100mg/5ml</td>\n",
       "      <td>0.2</td>\n",
       "      <td>1.108700</td>\n",
       "    </tr>\n",
       "    <tr>\n",
       "      <th>2</th>\n",
       "      <td>Acetazolamide_Liq Spec 100mg/5ml</td>\n",
       "      <td>0.3</td>\n",
       "      <td>1.289930</td>\n",
       "    </tr>\n",
       "    <tr>\n",
       "      <th>3</th>\n",
       "      <td>Acetazolamide_Liq Spec 100mg/5ml</td>\n",
       "      <td>0.4</td>\n",
       "      <td>1.458016</td>\n",
       "    </tr>\n",
       "    <tr>\n",
       "      <th>4</th>\n",
       "      <td>Acetazolamide_Liq Spec 100mg/5ml</td>\n",
       "      <td>0.5</td>\n",
       "      <td>1.760125</td>\n",
       "    </tr>\n",
       "  </tbody>\n",
       "</table>\n",
       "</div>"
      ],
      "text/plain": [
       "                            PRODUCT  level_1       PPU\n",
       "0  Acetazolamide_Liq Spec 100mg/5ml      0.1  0.898844\n",
       "1  Acetazolamide_Liq Spec 100mg/5ml      0.2  1.108700\n",
       "2  Acetazolamide_Liq Spec 100mg/5ml      0.3  1.289930\n",
       "3  Acetazolamide_Liq Spec 100mg/5ml      0.4  1.458016\n",
       "4  Acetazolamide_Liq Spec 100mg/5ml      0.5  1.760125"
      ]
     },
     "execution_count": 16,
     "metadata": {},
     "output_type": "execute_result"
    }
   ],
   "source": [
    "deciles_df.head()"
   ]
  },
  {
   "cell_type": "code",
   "execution_count": 17,
   "metadata": {
    "collapsed": true
   },
   "outputs": [],
   "source": [
    "deciles_df.to_csv('spec2017deciles.csv')"
   ]
  },
  {
   "cell_type": "code",
   "execution_count": 18,
   "metadata": {
    "collapsed": false
   },
   "outputs": [
    {
     "name": "stdout",
     "output_type": "stream",
     "text": [
      "Please visit this URL to authorize this application: https://accounts.google.com/o/oauth2/auth?response_type=code&client_id=495642085510-k0tmvj2m941jhre2nbqka17vqpjfddtd.apps.googleusercontent.com&redirect_uri=urn%3Aietf%3Awg%3Aoauth%3A2.0%3Aoob&scope=https%3A%2F%2Fwww.googleapis.com%2Fauth%2Fbigquery&state=Pqy8w8T1bkOjTdWWxPsoYVRlYhbqom&access_type=offline&prompt=consent\n",
      "Enter the authorization code: 4/AACyffiuYEW90JKT8KLhWin5hSjtY3iS0h2Yke4_jArfydcmMkpjW9s\n",
      "Requesting query... ok.\n",
      "Job ID: job_1Ge5pi-wyR1sml1HsGg1DW7rk969\n",
      "Query running...\n",
      "Query done.\n",
      "Processed: 18.3 MB\n",
      "Standard price: $0.00 USD\n",
      "\n",
      "Retrieving results...\n",
      "  Got page: 1; 32% done. Elapsed 16.27 s.\n",
      "  Got page: 2; 64% done. Elapsed 21.55 s.\n",
      "  Got page: 3; 96% done. Elapsed 28.05 s.\n",
      "  Got page: 4; 100% done. Elapsed 29.15 s.\n",
      "Got 78026 rows.\n",
      "\n",
      "Total time taken 37.12 s.\n",
      "Finished at 2018-04-24 23:00:51.\n"
     ]
    },
    {
     "ename": "NameError",
     "evalue": "name 'query' is not defined",
     "output_type": "error",
     "traceback": [
      "\u001b[0;31m---------------------------------------------------------------------------\u001b[0m",
      "\u001b[0;31mNameError\u001b[0m                                 Traceback (most recent call last)",
      "\u001b[0;32m<ipython-input-18-2859f9173c50>\u001b[0m in \u001b[0;36m<module>\u001b[0;34m()\u001b[0m\n\u001b[1;32m      8\u001b[0m \u001b[0mSELECT\u001b[0m \u001b[1;33m*\u001b[0m \u001b[0mFROM\u001b[0m \u001b[0mebmdatalab\u001b[0m\u001b[1;33m.\u001b[0m\u001b[0mhscic\u001b[0m\u001b[1;33m.\u001b[0m\u001b[0mbnf\u001b[0m\u001b[1;33m\u001b[0m\u001b[0m\n\u001b[1;32m      9\u001b[0m \"\"\", projectid)\n\u001b[0;32m---> 10\u001b[0;31m \u001b[0mquery\u001b[0m\u001b[1;33m.\u001b[0m\u001b[0muse_legacy_sql\u001b[0m \u001b[1;33m=\u001b[0m \u001b[1;32mFalse\u001b[0m\u001b[1;33m\u001b[0m\u001b[0m\n\u001b[0m\u001b[1;32m     11\u001b[0m \u001b[1;33m\u001b[0m\u001b[0m\n\u001b[1;32m     12\u001b[0m \u001b[1;31m#note date needs to be in timestamp format [YYYY-MM-DD HH:MM] (00:00)\u001b[0m\u001b[1;33m\u001b[0m\u001b[1;33m\u001b[0m\u001b[0m\n",
      "\u001b[0;31mNameError\u001b[0m: name 'query' is not defined"
     ]
    }
   ],
   "source": [
    "import pandas as pd\n",
    "\n",
    "# Insert your BigQuery Project ID Here\n",
    "# Can be found in the Google web console\n",
    "projectid = \"ebmdatalab\"\n",
    "\n",
    "df = pd.read_gbq(\"\"\"\n",
    "SELECT * FROM ebmdatalab.hscic.bnf \n",
    "\"\"\", projectid)\n",
    "query.use_legacy_sql = False\n",
    "\n",
    "#note date needs to be in timestamp format [YYYY-MM-DD HH:MM] (00:00)"
   ]
  },
  {
   "cell_type": "code",
   "execution_count": 20,
   "metadata": {
    "collapsed": false
   },
   "outputs": [],
   "source": [
    "df.to_csv('bnf.csv')"
   ]
  },
  {
   "cell_type": "code",
   "execution_count": null,
   "metadata": {
    "collapsed": true
   },
   "outputs": [],
   "source": []
  }
 ],
 "metadata": {
  "kernelspec": {
   "display_name": "Python 3",
   "language": "python",
   "name": "python3"
  },
  "language_info": {
   "codemirror_mode": {
    "name": "ipython",
    "version": 3
   },
   "file_extension": ".py",
   "mimetype": "text/x-python",
   "name": "python",
   "nbconvert_exporter": "python",
   "pygments_lexer": "ipython3",
   "version": "3.6.0"
  }
 },
 "nbformat": 4,
 "nbformat_minor": 2
}
